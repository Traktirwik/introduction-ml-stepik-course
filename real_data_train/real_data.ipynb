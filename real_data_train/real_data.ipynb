{
 "cells": [
  {
   "cell_type": "code",
   "execution_count": 1,
   "metadata": {},
   "outputs": [],
   "source": [
    "import pandas as pd\n",
    "import numpy as np\n",
    "%matplotlib inline\n",
    "import matplotlib.pyplot as plt\n",
    "import seaborn as sns\n",
    "from sklearn import tree\n",
    "from sklearn.model_selection import GridSearchCV\n",
    "from sklearn.model_selection import train_test_split\n",
    "from sklearn.metrics import precision_score\n",
    "from sklearn.metrics import recall_score\n",
    "from sklearn.ensemble import RandomForestClassifier\n",
    "\n",
    "\n"
   ]
  },
  {
   "cell_type": "code",
   "execution_count": 2,
   "metadata": {},
   "outputs": [],
   "source": [
    "sns.set(rc={'figure.figsize': (9, 6)})"
   ]
  },
  {
   "cell_type": "code",
   "execution_count": 3,
   "metadata": {},
   "outputs": [
    {
     "data": {
      "text/html": [
       "<div>\n",
       "<style scoped>\n",
       "    .dataframe tbody tr th:only-of-type {\n",
       "        vertical-align: middle;\n",
       "    }\n",
       "\n",
       "    .dataframe tbody tr th {\n",
       "        vertical-align: top;\n",
       "    }\n",
       "\n",
       "    .dataframe thead th {\n",
       "        text-align: right;\n",
       "    }\n",
       "</style>\n",
       "<table border=\"1\" class=\"dataframe\">\n",
       "  <thead>\n",
       "    <tr style=\"text-align: right;\">\n",
       "      <th></th>\n",
       "      <th>step_id</th>\n",
       "      <th>timestamp</th>\n",
       "      <th>action</th>\n",
       "      <th>user_id</th>\n",
       "    </tr>\n",
       "  </thead>\n",
       "  <tbody>\n",
       "    <tr>\n",
       "      <th>0</th>\n",
       "      <td>32815</td>\n",
       "      <td>1434340848</td>\n",
       "      <td>viewed</td>\n",
       "      <td>17632</td>\n",
       "    </tr>\n",
       "    <tr>\n",
       "      <th>1</th>\n",
       "      <td>32815</td>\n",
       "      <td>1434340848</td>\n",
       "      <td>passed</td>\n",
       "      <td>17632</td>\n",
       "    </tr>\n",
       "    <tr>\n",
       "      <th>2</th>\n",
       "      <td>32815</td>\n",
       "      <td>1434340848</td>\n",
       "      <td>discovered</td>\n",
       "      <td>17632</td>\n",
       "    </tr>\n",
       "    <tr>\n",
       "      <th>3</th>\n",
       "      <td>32811</td>\n",
       "      <td>1434340895</td>\n",
       "      <td>discovered</td>\n",
       "      <td>17632</td>\n",
       "    </tr>\n",
       "    <tr>\n",
       "      <th>4</th>\n",
       "      <td>32811</td>\n",
       "      <td>1434340895</td>\n",
       "      <td>viewed</td>\n",
       "      <td>17632</td>\n",
       "    </tr>\n",
       "    <tr>\n",
       "      <th>5</th>\n",
       "      <td>32811</td>\n",
       "      <td>1434340895</td>\n",
       "      <td>passed</td>\n",
       "      <td>17632</td>\n",
       "    </tr>\n",
       "    <tr>\n",
       "      <th>6</th>\n",
       "      <td>32929</td>\n",
       "      <td>1434340921</td>\n",
       "      <td>discovered</td>\n",
       "      <td>17632</td>\n",
       "    </tr>\n",
       "    <tr>\n",
       "      <th>7</th>\n",
       "      <td>32929</td>\n",
       "      <td>1434340921</td>\n",
       "      <td>viewed</td>\n",
       "      <td>17632</td>\n",
       "    </tr>\n",
       "    <tr>\n",
       "      <th>8</th>\n",
       "      <td>32929</td>\n",
       "      <td>1434340939</td>\n",
       "      <td>started_attempt</td>\n",
       "      <td>17632</td>\n",
       "    </tr>\n",
       "    <tr>\n",
       "      <th>9</th>\n",
       "      <td>32929</td>\n",
       "      <td>1434340944</td>\n",
       "      <td>passed</td>\n",
       "      <td>17632</td>\n",
       "    </tr>\n",
       "  </tbody>\n",
       "</table>\n",
       "</div>"
      ],
      "text/plain": [
       "   step_id   timestamp           action  user_id\n",
       "0    32815  1434340848           viewed    17632\n",
       "1    32815  1434340848           passed    17632\n",
       "2    32815  1434340848       discovered    17632\n",
       "3    32811  1434340895       discovered    17632\n",
       "4    32811  1434340895           viewed    17632\n",
       "5    32811  1434340895           passed    17632\n",
       "6    32929  1434340921       discovered    17632\n",
       "7    32929  1434340921           viewed    17632\n",
       "8    32929  1434340939  started_attempt    17632\n",
       "9    32929  1434340944           passed    17632"
      ]
     },
     "execution_count": 3,
     "metadata": {},
     "output_type": "execute_result"
    }
   ],
   "source": [
    "events_data = pd.read_csv(\"./models/event_data_train.csv\") \n",
    "events_data.head(10)"
   ]
  },
  {
   "cell_type": "code",
   "execution_count": 4,
   "metadata": {},
   "outputs": [
    {
     "data": {
      "text/html": [
       "<div>\n",
       "<style scoped>\n",
       "    .dataframe tbody tr th:only-of-type {\n",
       "        vertical-align: middle;\n",
       "    }\n",
       "\n",
       "    .dataframe tbody tr th {\n",
       "        vertical-align: top;\n",
       "    }\n",
       "\n",
       "    .dataframe thead th {\n",
       "        text-align: right;\n",
       "    }\n",
       "</style>\n",
       "<table border=\"1\" class=\"dataframe\">\n",
       "  <thead>\n",
       "    <tr style=\"text-align: right;\">\n",
       "      <th></th>\n",
       "      <th>step_id</th>\n",
       "      <th>timestamp</th>\n",
       "      <th>submission_status</th>\n",
       "      <th>user_id</th>\n",
       "    </tr>\n",
       "  </thead>\n",
       "  <tbody>\n",
       "    <tr>\n",
       "      <th>0</th>\n",
       "      <td>31971</td>\n",
       "      <td>1434349275</td>\n",
       "      <td>correct</td>\n",
       "      <td>15853</td>\n",
       "    </tr>\n",
       "    <tr>\n",
       "      <th>1</th>\n",
       "      <td>31972</td>\n",
       "      <td>1434348300</td>\n",
       "      <td>correct</td>\n",
       "      <td>15853</td>\n",
       "    </tr>\n",
       "    <tr>\n",
       "      <th>2</th>\n",
       "      <td>31972</td>\n",
       "      <td>1478852149</td>\n",
       "      <td>wrong</td>\n",
       "      <td>15853</td>\n",
       "    </tr>\n",
       "    <tr>\n",
       "      <th>3</th>\n",
       "      <td>31972</td>\n",
       "      <td>1478852164</td>\n",
       "      <td>correct</td>\n",
       "      <td>15853</td>\n",
       "    </tr>\n",
       "    <tr>\n",
       "      <th>4</th>\n",
       "      <td>31976</td>\n",
       "      <td>1434348123</td>\n",
       "      <td>wrong</td>\n",
       "      <td>15853</td>\n",
       "    </tr>\n",
       "  </tbody>\n",
       "</table>\n",
       "</div>"
      ],
      "text/plain": [
       "   step_id   timestamp submission_status  user_id\n",
       "0    31971  1434349275           correct    15853\n",
       "1    31972  1434348300           correct    15853\n",
       "2    31972  1478852149             wrong    15853\n",
       "3    31972  1478852164           correct    15853\n",
       "4    31976  1434348123             wrong    15853"
      ]
     },
     "execution_count": 4,
     "metadata": {},
     "output_type": "execute_result"
    }
   ],
   "source": [
    "submissions_data = pd.read_csv('./models/submissions_data_train.csv')\n",
    "submissions_data.head()"
   ]
  },
  {
   "cell_type": "code",
   "execution_count": 5,
   "metadata": {},
   "outputs": [
    {
     "data": {
      "text/plain": [
       "array(['viewed', 'passed', 'discovered', 'started_attempt'], dtype=object)"
      ]
     },
     "execution_count": 5,
     "metadata": {},
     "output_type": "execute_result"
    }
   ],
   "source": [
    "events_data.action.unique()"
   ]
  },
  {
   "cell_type": "code",
   "execution_count": 6,
   "metadata": {},
   "outputs": [],
   "source": [
    "events_data['date'] = pd.to_datetime(events_data.timestamp, unit='s')"
   ]
  },
  {
   "cell_type": "code",
   "execution_count": 7,
   "metadata": {},
   "outputs": [
    {
     "data": {
      "text/html": [
       "<div>\n",
       "<style scoped>\n",
       "    .dataframe tbody tr th:only-of-type {\n",
       "        vertical-align: middle;\n",
       "    }\n",
       "\n",
       "    .dataframe tbody tr th {\n",
       "        vertical-align: top;\n",
       "    }\n",
       "\n",
       "    .dataframe thead th {\n",
       "        text-align: right;\n",
       "    }\n",
       "</style>\n",
       "<table border=\"1\" class=\"dataframe\">\n",
       "  <thead>\n",
       "    <tr style=\"text-align: right;\">\n",
       "      <th></th>\n",
       "      <th>step_id</th>\n",
       "      <th>timestamp</th>\n",
       "      <th>action</th>\n",
       "      <th>user_id</th>\n",
       "      <th>date</th>\n",
       "    </tr>\n",
       "  </thead>\n",
       "  <tbody>\n",
       "    <tr>\n",
       "      <th>0</th>\n",
       "      <td>32815</td>\n",
       "      <td>1434340848</td>\n",
       "      <td>viewed</td>\n",
       "      <td>17632</td>\n",
       "      <td>2015-06-15 04:00:48</td>\n",
       "    </tr>\n",
       "    <tr>\n",
       "      <th>1</th>\n",
       "      <td>32815</td>\n",
       "      <td>1434340848</td>\n",
       "      <td>passed</td>\n",
       "      <td>17632</td>\n",
       "      <td>2015-06-15 04:00:48</td>\n",
       "    </tr>\n",
       "    <tr>\n",
       "      <th>2</th>\n",
       "      <td>32815</td>\n",
       "      <td>1434340848</td>\n",
       "      <td>discovered</td>\n",
       "      <td>17632</td>\n",
       "      <td>2015-06-15 04:00:48</td>\n",
       "    </tr>\n",
       "    <tr>\n",
       "      <th>3</th>\n",
       "      <td>32811</td>\n",
       "      <td>1434340895</td>\n",
       "      <td>discovered</td>\n",
       "      <td>17632</td>\n",
       "      <td>2015-06-15 04:01:35</td>\n",
       "    </tr>\n",
       "    <tr>\n",
       "      <th>4</th>\n",
       "      <td>32811</td>\n",
       "      <td>1434340895</td>\n",
       "      <td>viewed</td>\n",
       "      <td>17632</td>\n",
       "      <td>2015-06-15 04:01:35</td>\n",
       "    </tr>\n",
       "  </tbody>\n",
       "</table>\n",
       "</div>"
      ],
      "text/plain": [
       "   step_id   timestamp      action  user_id                date\n",
       "0    32815  1434340848      viewed    17632 2015-06-15 04:00:48\n",
       "1    32815  1434340848      passed    17632 2015-06-15 04:00:48\n",
       "2    32815  1434340848  discovered    17632 2015-06-15 04:00:48\n",
       "3    32811  1434340895  discovered    17632 2015-06-15 04:01:35\n",
       "4    32811  1434340895      viewed    17632 2015-06-15 04:01:35"
      ]
     },
     "execution_count": 7,
     "metadata": {},
     "output_type": "execute_result"
    }
   ],
   "source": [
    "events_data.head()"
   ]
  },
  {
   "cell_type": "code",
   "execution_count": 8,
   "metadata": {},
   "outputs": [],
   "source": [
    "events_data['day'] = events_data.date.dt.date"
   ]
  },
  {
   "cell_type": "code",
   "execution_count": 9,
   "metadata": {},
   "outputs": [
    {
     "data": {
      "text/html": [
       "<div>\n",
       "<style scoped>\n",
       "    .dataframe tbody tr th:only-of-type {\n",
       "        vertical-align: middle;\n",
       "    }\n",
       "\n",
       "    .dataframe tbody tr th {\n",
       "        vertical-align: top;\n",
       "    }\n",
       "\n",
       "    .dataframe thead th {\n",
       "        text-align: right;\n",
       "    }\n",
       "</style>\n",
       "<table border=\"1\" class=\"dataframe\">\n",
       "  <thead>\n",
       "    <tr style=\"text-align: right;\">\n",
       "      <th></th>\n",
       "      <th>step_id</th>\n",
       "      <th>timestamp</th>\n",
       "      <th>action</th>\n",
       "      <th>user_id</th>\n",
       "      <th>date</th>\n",
       "      <th>day</th>\n",
       "    </tr>\n",
       "  </thead>\n",
       "  <tbody>\n",
       "    <tr>\n",
       "      <th>0</th>\n",
       "      <td>32815</td>\n",
       "      <td>1434340848</td>\n",
       "      <td>viewed</td>\n",
       "      <td>17632</td>\n",
       "      <td>2015-06-15 04:00:48</td>\n",
       "      <td>2015-06-15</td>\n",
       "    </tr>\n",
       "    <tr>\n",
       "      <th>1</th>\n",
       "      <td>32815</td>\n",
       "      <td>1434340848</td>\n",
       "      <td>passed</td>\n",
       "      <td>17632</td>\n",
       "      <td>2015-06-15 04:00:48</td>\n",
       "      <td>2015-06-15</td>\n",
       "    </tr>\n",
       "    <tr>\n",
       "      <th>2</th>\n",
       "      <td>32815</td>\n",
       "      <td>1434340848</td>\n",
       "      <td>discovered</td>\n",
       "      <td>17632</td>\n",
       "      <td>2015-06-15 04:00:48</td>\n",
       "      <td>2015-06-15</td>\n",
       "    </tr>\n",
       "    <tr>\n",
       "      <th>3</th>\n",
       "      <td>32811</td>\n",
       "      <td>1434340895</td>\n",
       "      <td>discovered</td>\n",
       "      <td>17632</td>\n",
       "      <td>2015-06-15 04:01:35</td>\n",
       "      <td>2015-06-15</td>\n",
       "    </tr>\n",
       "    <tr>\n",
       "      <th>4</th>\n",
       "      <td>32811</td>\n",
       "      <td>1434340895</td>\n",
       "      <td>viewed</td>\n",
       "      <td>17632</td>\n",
       "      <td>2015-06-15 04:01:35</td>\n",
       "      <td>2015-06-15</td>\n",
       "    </tr>\n",
       "  </tbody>\n",
       "</table>\n",
       "</div>"
      ],
      "text/plain": [
       "   step_id   timestamp      action  user_id                date         day\n",
       "0    32815  1434340848      viewed    17632 2015-06-15 04:00:48  2015-06-15\n",
       "1    32815  1434340848      passed    17632 2015-06-15 04:00:48  2015-06-15\n",
       "2    32815  1434340848  discovered    17632 2015-06-15 04:00:48  2015-06-15\n",
       "3    32811  1434340895  discovered    17632 2015-06-15 04:01:35  2015-06-15\n",
       "4    32811  1434340895      viewed    17632 2015-06-15 04:01:35  2015-06-15"
      ]
     },
     "execution_count": 9,
     "metadata": {},
     "output_type": "execute_result"
    }
   ],
   "source": [
    "events_data.head()"
   ]
  },
  {
   "cell_type": "code",
   "execution_count": 10,
   "metadata": {},
   "outputs": [],
   "source": [
    "submissions_data['date'] = pd.to_datetime(submissions_data.timestamp, unit='s')\n",
    "submissions_data['day'] = submissions_data.date.dt.date"
   ]
  },
  {
   "cell_type": "code",
   "execution_count": 11,
   "metadata": {},
   "outputs": [
    {
     "data": {
      "text/plain": [
       "<AxesSubplot:xlabel='day'>"
      ]
     },
     "execution_count": 11,
     "metadata": {},
     "output_type": "execute_result"
    },
    {
     "data": {
      "image/png": "[encoded data removed]",
      "text/plain": [
       "<Figure size 648x432 with 1 Axes>"
      ]
     },
     "metadata": {},
     "output_type": "display_data"
    }
   ],
   "source": [
    "events_data.groupby('day') \\\n",
    "    .user_id.nunique().plot()"
   ]
  },
  {
   "cell_type": "code",
   "execution_count": 12,
   "metadata": {},
   "outputs": [],
   "source": [
    "# events_data[events_data.action == 'passed'] \\\n",
    "#     .groupby('user_id', as_index=False) \\\n",
    "#     .agg({'step_id': 'count'}) \\\n",
    "#     .rename(columns={'step_id': 'passed_steps'}) \\\n",
    "#     .head()"
   ]
  },
  {
   "cell_type": "code",
   "execution_count": 13,
   "metadata": {},
   "outputs": [
    {
     "data": {
      "text/html": [
       "<div>\n",
       "<style scoped>\n",
       "    .dataframe tbody tr th:only-of-type {\n",
       "        vertical-align: middle;\n",
       "    }\n",
       "\n",
       "    .dataframe tbody tr th {\n",
       "        vertical-align: top;\n",
       "    }\n",
       "\n",
       "    .dataframe thead th {\n",
       "        text-align: right;\n",
       "    }\n",
       "</style>\n",
       "<table border=\"1\" class=\"dataframe\">\n",
       "  <thead>\n",
       "    <tr style=\"text-align: right;\">\n",
       "      <th>action</th>\n",
       "      <th>user_id</th>\n",
       "      <th>discovered</th>\n",
       "      <th>passed</th>\n",
       "      <th>started_attempt</th>\n",
       "      <th>viewed</th>\n",
       "    </tr>\n",
       "  </thead>\n",
       "  <tbody>\n",
       "    <tr>\n",
       "      <th>0</th>\n",
       "      <td>1</td>\n",
       "      <td>1</td>\n",
       "      <td>0</td>\n",
       "      <td>0</td>\n",
       "      <td>1</td>\n",
       "    </tr>\n",
       "    <tr>\n",
       "      <th>1</th>\n",
       "      <td>2</td>\n",
       "      <td>9</td>\n",
       "      <td>9</td>\n",
       "      <td>2</td>\n",
       "      <td>10</td>\n",
       "    </tr>\n",
       "    <tr>\n",
       "      <th>2</th>\n",
       "      <td>3</td>\n",
       "      <td>91</td>\n",
       "      <td>87</td>\n",
       "      <td>30</td>\n",
       "      <td>192</td>\n",
       "    </tr>\n",
       "    <tr>\n",
       "      <th>3</th>\n",
       "      <td>5</td>\n",
       "      <td>11</td>\n",
       "      <td>11</td>\n",
       "      <td>4</td>\n",
       "      <td>12</td>\n",
       "    </tr>\n",
       "    <tr>\n",
       "      <th>4</th>\n",
       "      <td>7</td>\n",
       "      <td>1</td>\n",
       "      <td>1</td>\n",
       "      <td>0</td>\n",
       "      <td>1</td>\n",
       "    </tr>\n",
       "  </tbody>\n",
       "</table>\n",
       "</div>"
      ],
      "text/plain": [
       "action  user_id  discovered  passed  started_attempt  viewed\n",
       "0             1           1       0                0       1\n",
       "1             2           9       9                2      10\n",
       "2             3          91      87               30     192\n",
       "3             5          11      11                4      12\n",
       "4             7           1       1                0       1"
      ]
     },
     "execution_count": 13,
     "metadata": {},
     "output_type": "execute_result"
    }
   ],
   "source": [
    "users_event_data = events_data.pivot_table(index='user_id', columns='action', values='step_id', aggfunc='count', fill_value=0).reset_index()\n",
    "users_event_data.head()"
   ]
  },
  {
   "cell_type": "code",
   "execution_count": 14,
   "metadata": {},
   "outputs": [
    {
     "data": {
      "text/html": [
       "<div>\n",
       "<style scoped>\n",
       "    .dataframe tbody tr th:only-of-type {\n",
       "        vertical-align: middle;\n",
       "    }\n",
       "\n",
       "    .dataframe tbody tr th {\n",
       "        vertical-align: top;\n",
       "    }\n",
       "\n",
       "    .dataframe thead th {\n",
       "        text-align: right;\n",
       "    }\n",
       "</style>\n",
       "<table border=\"1\" class=\"dataframe\">\n",
       "  <thead>\n",
       "    <tr style=\"text-align: right;\">\n",
       "      <th>submission_status</th>\n",
       "      <th>user_id</th>\n",
       "      <th>correct</th>\n",
       "      <th>wrong</th>\n",
       "    </tr>\n",
       "  </thead>\n",
       "  <tbody>\n",
       "    <tr>\n",
       "      <th>0</th>\n",
       "      <td>2</td>\n",
       "      <td>2</td>\n",
       "      <td>0</td>\n",
       "    </tr>\n",
       "    <tr>\n",
       "      <th>1</th>\n",
       "      <td>3</td>\n",
       "      <td>29</td>\n",
       "      <td>23</td>\n",
       "    </tr>\n",
       "    <tr>\n",
       "      <th>2</th>\n",
       "      <td>5</td>\n",
       "      <td>2</td>\n",
       "      <td>2</td>\n",
       "    </tr>\n",
       "    <tr>\n",
       "      <th>3</th>\n",
       "      <td>8</td>\n",
       "      <td>9</td>\n",
       "      <td>21</td>\n",
       "    </tr>\n",
       "    <tr>\n",
       "      <th>4</th>\n",
       "      <td>14</td>\n",
       "      <td>0</td>\n",
       "      <td>1</td>\n",
       "    </tr>\n",
       "  </tbody>\n",
       "</table>\n",
       "</div>"
      ],
      "text/plain": [
       "submission_status  user_id  correct  wrong\n",
       "0                        2        2      0\n",
       "1                        3       29     23\n",
       "2                        5        2      2\n",
       "3                        8        9     21\n",
       "4                       14        0      1"
      ]
     },
     "execution_count": 14,
     "metadata": {},
     "output_type": "execute_result"
    }
   ],
   "source": [
    "users_score = submissions_data.pivot_table(index='user_id', columns='submission_status', values='step_id', aggfunc='count', fill_value=0).reset_index()\n",
    "users_score.head()"
   ]
  },
  {
   "cell_type": "code",
   "execution_count": 15,
   "metadata": {},
   "outputs": [],
   "source": [
    "gap_data = events_data[['user_id', 'day', 'timestamp']].drop_duplicates(subset=['user_id', 'day']) \\\n",
    "    .groupby('user_id')['timestamp'].apply(list) \\\n",
    "    .apply(np.diff).values"
   ]
  },
  {
   "cell_type": "code",
   "execution_count": 16,
   "metadata": {},
   "outputs": [],
   "source": [
    "gap_data = pd.Series(np.concatenate(gap_data, axis=0))"
   ]
  },
  {
   "cell_type": "code",
   "execution_count": 17,
   "metadata": {},
   "outputs": [],
   "source": [
    "gap_data = gap_data / (24 * 60 * 60)\n"
   ]
  },
  {
   "cell_type": "code",
   "execution_count": 18,
   "metadata": {},
   "outputs": [
    {
     "data": {
      "text/plain": [
       "18.325995370370403"
      ]
     },
     "execution_count": 18,
     "metadata": {},
     "output_type": "execute_result"
    }
   ],
   "source": [
    "gap_data.quantile(0.9)"
   ]
  },
  {
   "cell_type": "code",
   "execution_count": 19,
   "metadata": {},
   "outputs": [
    {
     "data": {
      "text/html": [
       "<div>\n",
       "<style scoped>\n",
       "    .dataframe tbody tr th:only-of-type {\n",
       "        vertical-align: middle;\n",
       "    }\n",
       "\n",
       "    .dataframe tbody tr th {\n",
       "        vertical-align: top;\n",
       "    }\n",
       "\n",
       "    .dataframe thead th {\n",
       "        text-align: right;\n",
       "    }\n",
       "</style>\n",
       "<table border=\"1\" class=\"dataframe\">\n",
       "  <thead>\n",
       "    <tr style=\"text-align: right;\">\n",
       "      <th></th>\n",
       "      <th>step_id</th>\n",
       "      <th>timestamp</th>\n",
       "      <th>action</th>\n",
       "      <th>user_id</th>\n",
       "      <th>date</th>\n",
       "      <th>day</th>\n",
       "    </tr>\n",
       "  </thead>\n",
       "  <tbody>\n",
       "    <tr>\n",
       "      <th>3480698</th>\n",
       "      <td>33375</td>\n",
       "      <td>1526772685</td>\n",
       "      <td>viewed</td>\n",
       "      <td>11677</td>\n",
       "      <td>2018-05-19 23:31:25</td>\n",
       "      <td>2018-05-19</td>\n",
       "    </tr>\n",
       "    <tr>\n",
       "      <th>3480699</th>\n",
       "      <td>32815</td>\n",
       "      <td>1526772750</td>\n",
       "      <td>viewed</td>\n",
       "      <td>5198</td>\n",
       "      <td>2018-05-19 23:32:30</td>\n",
       "      <td>2018-05-19</td>\n",
       "    </tr>\n",
       "    <tr>\n",
       "      <th>3480700</th>\n",
       "      <td>32815</td>\n",
       "      <td>1526772750</td>\n",
       "      <td>discovered</td>\n",
       "      <td>5198</td>\n",
       "      <td>2018-05-19 23:32:30</td>\n",
       "      <td>2018-05-19</td>\n",
       "    </tr>\n",
       "    <tr>\n",
       "      <th>3480701</th>\n",
       "      <td>32815</td>\n",
       "      <td>1526772750</td>\n",
       "      <td>passed</td>\n",
       "      <td>5198</td>\n",
       "      <td>2018-05-19 23:32:30</td>\n",
       "      <td>2018-05-19</td>\n",
       "    </tr>\n",
       "    <tr>\n",
       "      <th>3480702</th>\n",
       "      <td>33892</td>\n",
       "      <td>1526772811</td>\n",
       "      <td>viewed</td>\n",
       "      <td>18526</td>\n",
       "      <td>2018-05-19 23:33:31</td>\n",
       "      <td>2018-05-19</td>\n",
       "    </tr>\n",
       "  </tbody>\n",
       "</table>\n",
       "</div>"
      ],
      "text/plain": [
       "         step_id   timestamp      action  user_id                date  \\\n",
       "3480698    33375  1526772685      viewed    11677 2018-05-19 23:31:25   \n",
       "3480699    32815  1526772750      viewed     5198 2018-05-19 23:32:30   \n",
       "3480700    32815  1526772750  discovered     5198 2018-05-19 23:32:30   \n",
       "3480701    32815  1526772750      passed     5198 2018-05-19 23:32:30   \n",
       "3480702    33892  1526772811      viewed    18526 2018-05-19 23:33:31   \n",
       "\n",
       "                day  \n",
       "3480698  2018-05-19  \n",
       "3480699  2018-05-19  \n",
       "3480700  2018-05-19  \n",
       "3480701  2018-05-19  \n",
       "3480702  2018-05-19  "
      ]
     },
     "execution_count": 19,
     "metadata": {},
     "output_type": "execute_result"
    }
   ],
   "source": [
    "events_data.tail()"
   ]
  },
  {
   "cell_type": "code",
   "execution_count": 20,
   "metadata": {},
   "outputs": [],
   "source": [
    "users_data = events_data.groupby('user_id', as_index=False) \\\n",
    "    .agg({'timestamp': 'max'}) \\\n",
    "    .rename(columns={'timestamp': 'last_timestamp'})"
   ]
  },
  {
   "cell_type": "code",
   "execution_count": 21,
   "metadata": {},
   "outputs": [],
   "source": [
    "final_day = 1526772811\n",
    "drop_out_treshold = 30 * 24 * 60 * 60"
   ]
  },
  {
   "cell_type": "code",
   "execution_count": 22,
   "metadata": {},
   "outputs": [],
   "source": [
    "users_data['is_gone_user'] = (final_day - users_data.last_timestamp) > drop_out_treshold"
   ]
  },
  {
   "cell_type": "code",
   "execution_count": 23,
   "metadata": {},
   "outputs": [],
   "source": [
    "users_data = users_data.merge(users_score, on='user_id', how='outer')"
   ]
  },
  {
   "cell_type": "code",
   "execution_count": 24,
   "metadata": {},
   "outputs": [],
   "source": [
    "users_data = users_data.fillna(0)"
   ]
  },
  {
   "cell_type": "code",
   "execution_count": 25,
   "metadata": {},
   "outputs": [],
   "source": [
    "users_data = users_data.merge(users_event_data, on='user_id', how='outer')"
   ]
  },
  {
   "cell_type": "code",
   "execution_count": 26,
   "metadata": {},
   "outputs": [],
   "source": [
    "users_days = events_data.groupby('user_id').day.nunique().to_frame().reset_index()"
   ]
  },
  {
   "cell_type": "code",
   "execution_count": 27,
   "metadata": {},
   "outputs": [
    {
     "data": {
      "text/html": [
       "<div>\n",
       "<style scoped>\n",
       "    .dataframe tbody tr th:only-of-type {\n",
       "        vertical-align: middle;\n",
       "    }\n",
       "\n",
       "    .dataframe tbody tr th {\n",
       "        vertical-align: top;\n",
       "    }\n",
       "\n",
       "    .dataframe thead th {\n",
       "        text-align: right;\n",
       "    }\n",
       "</style>\n",
       "<table border=\"1\" class=\"dataframe\">\n",
       "  <thead>\n",
       "    <tr style=\"text-align: right;\">\n",
       "      <th></th>\n",
       "      <th>user_id</th>\n",
       "      <th>day</th>\n",
       "    </tr>\n",
       "  </thead>\n",
       "  <tbody>\n",
       "    <tr>\n",
       "      <th>0</th>\n",
       "      <td>1</td>\n",
       "      <td>1</td>\n",
       "    </tr>\n",
       "    <tr>\n",
       "      <th>1</th>\n",
       "      <td>2</td>\n",
       "      <td>2</td>\n",
       "    </tr>\n",
       "    <tr>\n",
       "      <th>2</th>\n",
       "      <td>3</td>\n",
       "      <td>7</td>\n",
       "    </tr>\n",
       "    <tr>\n",
       "      <th>3</th>\n",
       "      <td>5</td>\n",
       "      <td>2</td>\n",
       "    </tr>\n",
       "    <tr>\n",
       "      <th>4</th>\n",
       "      <td>7</td>\n",
       "      <td>1</td>\n",
       "    </tr>\n",
       "    <tr>\n",
       "      <th>...</th>\n",
       "      <td>...</td>\n",
       "      <td>...</td>\n",
       "    </tr>\n",
       "    <tr>\n",
       "      <th>19229</th>\n",
       "      <td>26790</td>\n",
       "      <td>4</td>\n",
       "    </tr>\n",
       "    <tr>\n",
       "      <th>19230</th>\n",
       "      <td>26793</td>\n",
       "      <td>1</td>\n",
       "    </tr>\n",
       "    <tr>\n",
       "      <th>19231</th>\n",
       "      <td>26794</td>\n",
       "      <td>9</td>\n",
       "    </tr>\n",
       "    <tr>\n",
       "      <th>19232</th>\n",
       "      <td>26797</td>\n",
       "      <td>2</td>\n",
       "    </tr>\n",
       "    <tr>\n",
       "      <th>19233</th>\n",
       "      <td>26798</td>\n",
       "      <td>1</td>\n",
       "    </tr>\n",
       "  </tbody>\n",
       "</table>\n",
       "<p>19234 rows × 2 columns</p>\n",
       "</div>"
      ],
      "text/plain": [
       "       user_id  day\n",
       "0            1    1\n",
       "1            2    2\n",
       "2            3    7\n",
       "3            5    2\n",
       "4            7    1\n",
       "...        ...  ...\n",
       "19229    26790    4\n",
       "19230    26793    1\n",
       "19231    26794    9\n",
       "19232    26797    2\n",
       "19233    26798    1\n",
       "\n",
       "[19234 rows x 2 columns]"
      ]
     },
     "execution_count": 27,
     "metadata": {},
     "output_type": "execute_result"
    }
   ],
   "source": [
    "users_days"
   ]
  },
  {
   "cell_type": "code",
   "execution_count": 28,
   "metadata": {},
   "outputs": [],
   "source": [
    "users_data = users_data.merge(users_days, on='user_id', how='outer')"
   ]
  },
  {
   "cell_type": "markdown",
   "metadata": {},
   "source": [
    "data integrity check"
   ]
  },
  {
   "cell_type": "code",
   "execution_count": 29,
   "metadata": {},
   "outputs": [
    {
     "data": {
      "text/plain": [
       "19234"
      ]
     },
     "execution_count": 29,
     "metadata": {},
     "output_type": "execute_result"
    }
   ],
   "source": [
    "\n",
    "users_data.user_id.nunique()\n"
   ]
  },
  {
   "cell_type": "code",
   "execution_count": 30,
   "metadata": {},
   "outputs": [
    {
     "data": {
      "text/plain": [
       "19234"
      ]
     },
     "execution_count": 30,
     "metadata": {},
     "output_type": "execute_result"
    }
   ],
   "source": [
    "events_data.user_id.nunique()"
   ]
  },
  {
   "cell_type": "code",
   "execution_count": 31,
   "metadata": {},
   "outputs": [],
   "source": [
    "users_data['passed_course'] = users_data.passed > 170"
   ]
  },
  {
   "cell_type": "code",
   "execution_count": 32,
   "metadata": {},
   "outputs": [
    {
     "data": {
      "text/html": [
       "<div>\n",
       "<style scoped>\n",
       "    .dataframe tbody tr th:only-of-type {\n",
       "        vertical-align: middle;\n",
       "    }\n",
       "\n",
       "    .dataframe tbody tr th {\n",
       "        vertical-align: top;\n",
       "    }\n",
       "\n",
       "    .dataframe thead th {\n",
       "        text-align: right;\n",
       "    }\n",
       "</style>\n",
       "<table border=\"1\" class=\"dataframe\">\n",
       "  <thead>\n",
       "    <tr style=\"text-align: right;\">\n",
       "      <th></th>\n",
       "      <th>user_id</th>\n",
       "      <th>last_timestamp</th>\n",
       "      <th>is_gone_user</th>\n",
       "      <th>correct</th>\n",
       "      <th>wrong</th>\n",
       "      <th>discovered</th>\n",
       "      <th>passed</th>\n",
       "      <th>started_attempt</th>\n",
       "      <th>viewed</th>\n",
       "      <th>day</th>\n",
       "    </tr>\n",
       "    <tr>\n",
       "      <th>passed_course</th>\n",
       "      <th></th>\n",
       "      <th></th>\n",
       "      <th></th>\n",
       "      <th></th>\n",
       "      <th></th>\n",
       "      <th></th>\n",
       "      <th></th>\n",
       "      <th></th>\n",
       "      <th></th>\n",
       "      <th></th>\n",
       "    </tr>\n",
       "  </thead>\n",
       "  <tbody>\n",
       "    <tr>\n",
       "      <th>False</th>\n",
       "      <td>17809</td>\n",
       "      <td>17809</td>\n",
       "      <td>17809</td>\n",
       "      <td>17809</td>\n",
       "      <td>17809</td>\n",
       "      <td>17809</td>\n",
       "      <td>17809</td>\n",
       "      <td>17809</td>\n",
       "      <td>17809</td>\n",
       "      <td>17809</td>\n",
       "    </tr>\n",
       "    <tr>\n",
       "      <th>True</th>\n",
       "      <td>1425</td>\n",
       "      <td>1425</td>\n",
       "      <td>1425</td>\n",
       "      <td>1425</td>\n",
       "      <td>1425</td>\n",
       "      <td>1425</td>\n",
       "      <td>1425</td>\n",
       "      <td>1425</td>\n",
       "      <td>1425</td>\n",
       "      <td>1425</td>\n",
       "    </tr>\n",
       "  </tbody>\n",
       "</table>\n",
       "</div>"
      ],
      "text/plain": [
       "               user_id  last_timestamp  is_gone_user  correct  wrong  \\\n",
       "passed_course                                                          \n",
       "False            17809           17809         17809    17809  17809   \n",
       "True              1425            1425          1425     1425   1425   \n",
       "\n",
       "               discovered  passed  started_attempt  viewed    day  \n",
       "passed_course                                                      \n",
       "False               17809   17809            17809   17809  17809  \n",
       "True                 1425    1425             1425    1425   1425  "
      ]
     },
     "execution_count": 32,
     "metadata": {},
     "output_type": "execute_result"
    }
   ],
   "source": [
    "users_data.groupby('passed_course').count()"
   ]
  },
  {
   "cell_type": "code",
   "execution_count": 33,
   "metadata": {},
   "outputs": [
    {
     "data": {
      "text/plain": [
       "8.001572238755687"
      ]
     },
     "execution_count": 33,
     "metadata": {},
     "output_type": "execute_result"
    }
   ],
   "source": [
    "passed_stat = (1425 / 17809) * 100\n",
    "passed_stat"
   ]
  },
  {
   "cell_type": "code",
   "execution_count": 34,
   "metadata": {},
   "outputs": [],
   "source": [
    "first_user_action = events_data.groupby('user_id', as_index=False) \\\n",
    "    .agg({'timestamp': 'min'}) \\\n",
    "    .rename({'timestamp': 'min_timestamp'}, axis=1)"
   ]
  },
  {
   "cell_type": "code",
   "execution_count": 35,
   "metadata": {},
   "outputs": [],
   "source": [
    "users_data = users_data.merge(first_user_action, on='user_id', how='outer')"
   ]
  },
  {
   "cell_type": "code",
   "execution_count": 36,
   "metadata": {},
   "outputs": [],
   "source": [
    "# events_data_train = pd.DataFrame()"
   ]
  },
  {
   "cell_type": "code",
   "execution_count": 37,
   "metadata": {},
   "outputs": [],
   "source": [
    "# for user_id in users_data.user_id:\n",
    "#     min_user_time = users_data[users_data.user_id == user_id].min_timestamp.item()\n",
    "#     time_treshold = min_user_time + 3 * 24 * 60 * 60\n",
    "\n",
    "#     user_event_data = events_data[(events_data.user_id == user_id) & (events_data.timestamp < time_treshold)]\n",
    "\n",
    "#     events_data_train = events_data_train.append(user_event_data)\n",
    "\n",
    "\n"
   ]
  },
  {
   "cell_type": "code",
   "execution_count": 38,
   "metadata": {},
   "outputs": [],
   "source": [
    "# events_data_train.head()"
   ]
  },
  {
   "cell_type": "code",
   "execution_count": null,
   "metadata": {},
   "outputs": [],
   "source": [
    "events_data['user_time'] = events_data.user_id.map(str) + '_' + events_data.timestamp.map(str)"
   ]
  },
  {
   "cell_type": "code",
   "execution_count": null,
   "metadata": {},
   "outputs": [
    {
     "data": {
      "text/plain": [
       "259200"
      ]
     },
     "execution_count": 39,
     "metadata": {},
     "output_type": "execute_result"
    }
   ],
   "source": [
    "learning_time_treshold = 3 * 24 * 60 * 60\n",
    "learning_time_treshold"
   ]
  },
  {
   "cell_type": "code",
   "execution_count": null,
   "metadata": {},
   "outputs": [],
   "source": [
    "user_learning_time_treshold = first_user_action.user_id.map(str) + '_' + (first_user_action.min_timestamp + learning_time_treshold).map(str)"
   ]
  },
  {
   "cell_type": "code",
   "execution_count": null,
   "metadata": {},
   "outputs": [],
   "source": [
    "first_user_action['user_learning_time_treshold'] = user_learning_time_treshold"
   ]
  },
  {
   "cell_type": "code",
   "execution_count": null,
   "metadata": {},
   "outputs": [],
   "source": [
    "events_data = events_data.merge(first_user_action[['user_id', 'user_learning_time_treshold']], how='outer')"
   ]
  },
  {
   "cell_type": "code",
   "execution_count": null,
   "metadata": {},
   "outputs": [],
   "source": [
    "events_data_train = events_data[events_data.user_time <= events_data.user_learning_time_treshold]"
   ]
  },
  {
   "cell_type": "code",
   "execution_count": null,
   "metadata": {},
   "outputs": [
    {
     "data": {
      "text/html": [
       "<div>\n",
       "<style scoped>\n",
       "    .dataframe tbody tr th:only-of-type {\n",
       "        vertical-align: middle;\n",
       "    }\n",
       "\n",
       "    .dataframe tbody tr th {\n",
       "        vertical-align: top;\n",
       "    }\n",
       "\n",
       "    .dataframe thead th {\n",
       "        text-align: right;\n",
       "    }\n",
       "</style>\n",
       "<table border=\"1\" class=\"dataframe\">\n",
       "  <thead>\n",
       "    <tr style=\"text-align: right;\">\n",
       "      <th></th>\n",
       "      <th>step_id</th>\n",
       "      <th>timestamp</th>\n",
       "      <th>action</th>\n",
       "      <th>user_id</th>\n",
       "      <th>date</th>\n",
       "      <th>day</th>\n",
       "      <th>user_time</th>\n",
       "      <th>user_learning_time_treshold</th>\n",
       "    </tr>\n",
       "  </thead>\n",
       "  <tbody>\n",
       "    <tr>\n",
       "      <th>0</th>\n",
       "      <td>32815</td>\n",
       "      <td>1434340848</td>\n",
       "      <td>viewed</td>\n",
       "      <td>17632</td>\n",
       "      <td>2015-06-15 04:00:48</td>\n",
       "      <td>2015-06-15</td>\n",
       "      <td>17632_1434340848</td>\n",
       "      <td>17632_1434600048</td>\n",
       "    </tr>\n",
       "    <tr>\n",
       "      <th>1</th>\n",
       "      <td>32815</td>\n",
       "      <td>1434340848</td>\n",
       "      <td>passed</td>\n",
       "      <td>17632</td>\n",
       "      <td>2015-06-15 04:00:48</td>\n",
       "      <td>2015-06-15</td>\n",
       "      <td>17632_1434340848</td>\n",
       "      <td>17632_1434600048</td>\n",
       "    </tr>\n",
       "    <tr>\n",
       "      <th>2</th>\n",
       "      <td>32815</td>\n",
       "      <td>1434340848</td>\n",
       "      <td>discovered</td>\n",
       "      <td>17632</td>\n",
       "      <td>2015-06-15 04:00:48</td>\n",
       "      <td>2015-06-15</td>\n",
       "      <td>17632_1434340848</td>\n",
       "      <td>17632_1434600048</td>\n",
       "    </tr>\n",
       "    <tr>\n",
       "      <th>3</th>\n",
       "      <td>32811</td>\n",
       "      <td>1434340895</td>\n",
       "      <td>discovered</td>\n",
       "      <td>17632</td>\n",
       "      <td>2015-06-15 04:01:35</td>\n",
       "      <td>2015-06-15</td>\n",
       "      <td>17632_1434340895</td>\n",
       "      <td>17632_1434600048</td>\n",
       "    </tr>\n",
       "    <tr>\n",
       "      <th>4</th>\n",
       "      <td>32811</td>\n",
       "      <td>1434340895</td>\n",
       "      <td>viewed</td>\n",
       "      <td>17632</td>\n",
       "      <td>2015-06-15 04:01:35</td>\n",
       "      <td>2015-06-15</td>\n",
       "      <td>17632_1434340895</td>\n",
       "      <td>17632_1434600048</td>\n",
       "    </tr>\n",
       "  </tbody>\n",
       "</table>\n",
       "</div>"
      ],
      "text/plain": [
       "   step_id   timestamp      action  user_id                date         day  \\\n",
       "0    32815  1434340848      viewed    17632 2015-06-15 04:00:48  2015-06-15   \n",
       "1    32815  1434340848      passed    17632 2015-06-15 04:00:48  2015-06-15   \n",
       "2    32815  1434340848  discovered    17632 2015-06-15 04:00:48  2015-06-15   \n",
       "3    32811  1434340895  discovered    17632 2015-06-15 04:01:35  2015-06-15   \n",
       "4    32811  1434340895      viewed    17632 2015-06-15 04:01:35  2015-06-15   \n",
       "\n",
       "          user_time user_learning_time_treshold  \n",
       "0  17632_1434340848            17632_1434600048  \n",
       "1  17632_1434340848            17632_1434600048  \n",
       "2  17632_1434340848            17632_1434600048  \n",
       "3  17632_1434340895            17632_1434600048  \n",
       "4  17632_1434340895            17632_1434600048  "
      ]
     },
     "execution_count": 44,
     "metadata": {},
     "output_type": "execute_result"
    }
   ],
   "source": [
    "events_data_train.head()"
   ]
  },
  {
   "cell_type": "code",
   "execution_count": null,
   "metadata": {},
   "outputs": [],
   "source": [
    "max_step_id = submissions_data.step_id.max()"
   ]
  },
  {
   "cell_type": "code",
   "execution_count": null,
   "metadata": {},
   "outputs": [],
   "source": [
    "wrong_sub_data = submissions_data[submissions_data.submission_status == 'wrong']"
   ]
  },
  {
   "cell_type": "code",
   "execution_count": null,
   "metadata": {},
   "outputs": [],
   "source": [
    "wrong_sub_data = wrong_sub_data.groupby('step_id', as_index=False) \\\n",
    "    .agg({'submission_status': 'count'}) \\\n",
    "    .sort_values(['submission_status'], ascending=False)"
   ]
  },
  {
   "cell_type": "code",
   "execution_count": null,
   "metadata": {},
   "outputs": [
    {
     "data": {
      "text/html": [
       "<div>\n",
       "<style scoped>\n",
       "    .dataframe tbody tr th:only-of-type {\n",
       "        vertical-align: middle;\n",
       "    }\n",
       "\n",
       "    .dataframe tbody tr th {\n",
       "        vertical-align: top;\n",
       "    }\n",
       "\n",
       "    .dataframe thead th {\n",
       "        text-align: right;\n",
       "    }\n",
       "</style>\n",
       "<table border=\"1\" class=\"dataframe\">\n",
       "  <thead>\n",
       "    <tr style=\"text-align: right;\">\n",
       "      <th></th>\n",
       "      <th>step_id</th>\n",
       "      <th>submission_status</th>\n",
       "    </tr>\n",
       "  </thead>\n",
       "  <tbody>\n",
       "    <tr>\n",
       "      <th>4</th>\n",
       "      <td>31978</td>\n",
       "      <td>16084</td>\n",
       "    </tr>\n",
       "  </tbody>\n",
       "</table>\n",
       "</div>"
      ],
      "text/plain": [
       "   step_id  submission_status\n",
       "4    31978              16084"
      ]
     },
     "execution_count": 48,
     "metadata": {},
     "output_type": "execute_result"
    }
   ],
   "source": [
    "wrong_sub_data.head(1)"
   ]
  },
  {
   "cell_type": "code",
   "execution_count": null,
   "metadata": {},
   "outputs": [
    {
     "data": {
      "text/plain": [
       "4"
      ]
     },
     "execution_count": 49,
     "metadata": {},
     "output_type": "execute_result"
    }
   ],
   "source": [
    "events_data_train.groupby('user_id').day.nunique().max()"
   ]
  },
  {
   "cell_type": "code",
   "execution_count": null,
   "metadata": {},
   "outputs": [
    {
     "data": {
      "text/plain": [
       "4"
      ]
     },
     "execution_count": 50,
     "metadata": {},
     "output_type": "execute_result"
    }
   ],
   "source": [
    "submissions_data['user_time'] = submissions_data.user_id.map(str) + '_' + submissions_data.timestamp.map(str)\n",
    "submissions_data = submissions_data.merge(first_user_action[['user_id', 'user_learning_time_treshold']], how='outer')\n",
    "submissions_data_train = submissions_data[submissions_data.user_time <= submissions_data.user_learning_time_treshold]\n",
    "submissions_data_train.groupby('user_id').day.nunique().max()"
   ]
  },
  {
   "cell_type": "code",
   "execution_count": null,
   "metadata": {},
   "outputs": [
    {
     "data": {
      "text/html": [
       "<div>\n",
       "<style scoped>\n",
       "    .dataframe tbody tr th:only-of-type {\n",
       "        vertical-align: middle;\n",
       "    }\n",
       "\n",
       "    .dataframe tbody tr th {\n",
       "        vertical-align: top;\n",
       "    }\n",
       "\n",
       "    .dataframe thead th {\n",
       "        text-align: right;\n",
       "    }\n",
       "</style>\n",
       "<table border=\"1\" class=\"dataframe\">\n",
       "  <thead>\n",
       "    <tr style=\"text-align: right;\">\n",
       "      <th></th>\n",
       "      <th>step_id</th>\n",
       "      <th>timestamp</th>\n",
       "      <th>submission_status</th>\n",
       "      <th>user_id</th>\n",
       "      <th>date</th>\n",
       "      <th>day</th>\n",
       "      <th>user_time</th>\n",
       "      <th>user_learning_time_treshold</th>\n",
       "    </tr>\n",
       "  </thead>\n",
       "  <tbody>\n",
       "    <tr>\n",
       "      <th>0</th>\n",
       "      <td>31971.0</td>\n",
       "      <td>1.434349e+09</td>\n",
       "      <td>correct</td>\n",
       "      <td>15853</td>\n",
       "      <td>2015-06-15 06:21:15</td>\n",
       "      <td>2015-06-15</td>\n",
       "      <td>15853_1434349275</td>\n",
       "      <td>15853_1434605177</td>\n",
       "    </tr>\n",
       "    <tr>\n",
       "      <th>1</th>\n",
       "      <td>31972.0</td>\n",
       "      <td>1.434348e+09</td>\n",
       "      <td>correct</td>\n",
       "      <td>15853</td>\n",
       "      <td>2015-06-15 06:05:00</td>\n",
       "      <td>2015-06-15</td>\n",
       "      <td>15853_1434348300</td>\n",
       "      <td>15853_1434605177</td>\n",
       "    </tr>\n",
       "    <tr>\n",
       "      <th>2</th>\n",
       "      <td>31972.0</td>\n",
       "      <td>1.478852e+09</td>\n",
       "      <td>wrong</td>\n",
       "      <td>15853</td>\n",
       "      <td>2016-11-11 08:15:49</td>\n",
       "      <td>2016-11-11</td>\n",
       "      <td>15853_1478852149</td>\n",
       "      <td>15853_1434605177</td>\n",
       "    </tr>\n",
       "    <tr>\n",
       "      <th>3</th>\n",
       "      <td>31972.0</td>\n",
       "      <td>1.478852e+09</td>\n",
       "      <td>correct</td>\n",
       "      <td>15853</td>\n",
       "      <td>2016-11-11 08:16:04</td>\n",
       "      <td>2016-11-11</td>\n",
       "      <td>15853_1478852164</td>\n",
       "      <td>15853_1434605177</td>\n",
       "    </tr>\n",
       "    <tr>\n",
       "      <th>4</th>\n",
       "      <td>31976.0</td>\n",
       "      <td>1.434348e+09</td>\n",
       "      <td>wrong</td>\n",
       "      <td>15853</td>\n",
       "      <td>2015-06-15 06:02:03</td>\n",
       "      <td>2015-06-15</td>\n",
       "      <td>15853_1434348123</td>\n",
       "      <td>15853_1434605177</td>\n",
       "    </tr>\n",
       "  </tbody>\n",
       "</table>\n",
       "</div>"
      ],
      "text/plain": [
       "   step_id     timestamp submission_status  user_id                date  \\\n",
       "0  31971.0  1.434349e+09           correct    15853 2015-06-15 06:21:15   \n",
       "1  31972.0  1.434348e+09           correct    15853 2015-06-15 06:05:00   \n",
       "2  31972.0  1.478852e+09             wrong    15853 2016-11-11 08:15:49   \n",
       "3  31972.0  1.478852e+09           correct    15853 2016-11-11 08:16:04   \n",
       "4  31976.0  1.434348e+09             wrong    15853 2015-06-15 06:02:03   \n",
       "\n",
       "          day         user_time user_learning_time_treshold  \n",
       "0  2015-06-15  15853_1434349275            15853_1434605177  \n",
       "1  2015-06-15  15853_1434348300            15853_1434605177  \n",
       "2  2016-11-11  15853_1478852149            15853_1434605177  \n",
       "3  2016-11-11  15853_1478852164            15853_1434605177  \n",
       "4  2015-06-15  15853_1434348123            15853_1434605177  "
      ]
     },
     "execution_count": 51,
     "metadata": {},
     "output_type": "execute_result"
    }
   ],
   "source": [
    "submissions_data.head()"
   ]
  },
  {
   "cell_type": "code",
   "execution_count": null,
   "metadata": {},
   "outputs": [
    {
     "data": {
      "text/html": [
       "<div>\n",
       "<style scoped>\n",
       "    .dataframe tbody tr th:only-of-type {\n",
       "        vertical-align: middle;\n",
       "    }\n",
       "\n",
       "    .dataframe tbody tr th {\n",
       "        vertical-align: top;\n",
       "    }\n",
       "\n",
       "    .dataframe thead th {\n",
       "        text-align: right;\n",
       "    }\n",
       "</style>\n",
       "<table border=\"1\" class=\"dataframe\">\n",
       "  <thead>\n",
       "    <tr style=\"text-align: right;\">\n",
       "      <th></th>\n",
       "      <th>user_id</th>\n",
       "      <th>last_timestamp</th>\n",
       "      <th>is_gone_user</th>\n",
       "      <th>correct</th>\n",
       "      <th>wrong</th>\n",
       "      <th>discovered</th>\n",
       "      <th>passed</th>\n",
       "      <th>started_attempt</th>\n",
       "      <th>viewed</th>\n",
       "      <th>day</th>\n",
       "      <th>passed_course</th>\n",
       "      <th>min_timestamp</th>\n",
       "    </tr>\n",
       "  </thead>\n",
       "  <tbody>\n",
       "    <tr>\n",
       "      <th>0</th>\n",
       "      <td>1</td>\n",
       "      <td>1472827464</td>\n",
       "      <td>True</td>\n",
       "      <td>0.0</td>\n",
       "      <td>0.0</td>\n",
       "      <td>1</td>\n",
       "      <td>0</td>\n",
       "      <td>0</td>\n",
       "      <td>1</td>\n",
       "      <td>1</td>\n",
       "      <td>False</td>\n",
       "      <td>1472827464</td>\n",
       "    </tr>\n",
       "    <tr>\n",
       "      <th>1</th>\n",
       "      <td>2</td>\n",
       "      <td>1519226966</td>\n",
       "      <td>True</td>\n",
       "      <td>2.0</td>\n",
       "      <td>0.0</td>\n",
       "      <td>9</td>\n",
       "      <td>9</td>\n",
       "      <td>2</td>\n",
       "      <td>10</td>\n",
       "      <td>2</td>\n",
       "      <td>False</td>\n",
       "      <td>1514383364</td>\n",
       "    </tr>\n",
       "    <tr>\n",
       "      <th>2</th>\n",
       "      <td>3</td>\n",
       "      <td>1444581588</td>\n",
       "      <td>True</td>\n",
       "      <td>29.0</td>\n",
       "      <td>23.0</td>\n",
       "      <td>91</td>\n",
       "      <td>87</td>\n",
       "      <td>30</td>\n",
       "      <td>192</td>\n",
       "      <td>7</td>\n",
       "      <td>False</td>\n",
       "      <td>1434358476</td>\n",
       "    </tr>\n",
       "    <tr>\n",
       "      <th>3</th>\n",
       "      <td>5</td>\n",
       "      <td>1499859939</td>\n",
       "      <td>True</td>\n",
       "      <td>2.0</td>\n",
       "      <td>2.0</td>\n",
       "      <td>11</td>\n",
       "      <td>11</td>\n",
       "      <td>4</td>\n",
       "      <td>12</td>\n",
       "      <td>2</td>\n",
       "      <td>False</td>\n",
       "      <td>1466156809</td>\n",
       "    </tr>\n",
       "    <tr>\n",
       "      <th>4</th>\n",
       "      <td>7</td>\n",
       "      <td>1521634660</td>\n",
       "      <td>True</td>\n",
       "      <td>0.0</td>\n",
       "      <td>0.0</td>\n",
       "      <td>1</td>\n",
       "      <td>1</td>\n",
       "      <td>0</td>\n",
       "      <td>1</td>\n",
       "      <td>1</td>\n",
       "      <td>False</td>\n",
       "      <td>1521634660</td>\n",
       "    </tr>\n",
       "    <tr>\n",
       "      <th>5</th>\n",
       "      <td>8</td>\n",
       "      <td>1481466913</td>\n",
       "      <td>True</td>\n",
       "      <td>9.0</td>\n",
       "      <td>21.0</td>\n",
       "      <td>109</td>\n",
       "      <td>84</td>\n",
       "      <td>37</td>\n",
       "      <td>156</td>\n",
       "      <td>2</td>\n",
       "      <td>False</td>\n",
       "      <td>1480603427</td>\n",
       "    </tr>\n",
       "    <tr>\n",
       "      <th>6</th>\n",
       "      <td>9</td>\n",
       "      <td>1484999497</td>\n",
       "      <td>True</td>\n",
       "      <td>0.0</td>\n",
       "      <td>0.0</td>\n",
       "      <td>3</td>\n",
       "      <td>3</td>\n",
       "      <td>0</td>\n",
       "      <td>4</td>\n",
       "      <td>1</td>\n",
       "      <td>False</td>\n",
       "      <td>1484999434</td>\n",
       "    </tr>\n",
       "    <tr>\n",
       "      <th>7</th>\n",
       "      <td>11</td>\n",
       "      <td>1526140625</td>\n",
       "      <td>False</td>\n",
       "      <td>0.0</td>\n",
       "      <td>0.0</td>\n",
       "      <td>1</td>\n",
       "      <td>0</td>\n",
       "      <td>1</td>\n",
       "      <td>1</td>\n",
       "      <td>1</td>\n",
       "      <td>False</td>\n",
       "      <td>1526140624</td>\n",
       "    </tr>\n",
       "    <tr>\n",
       "      <th>8</th>\n",
       "      <td>14</td>\n",
       "      <td>1436368676</td>\n",
       "      <td>True</td>\n",
       "      <td>0.0</td>\n",
       "      <td>1.0</td>\n",
       "      <td>4</td>\n",
       "      <td>3</td>\n",
       "      <td>1</td>\n",
       "      <td>9</td>\n",
       "      <td>1</td>\n",
       "      <td>False</td>\n",
       "      <td>1436366155</td>\n",
       "    </tr>\n",
       "    <tr>\n",
       "      <th>9</th>\n",
       "      <td>16</td>\n",
       "      <td>1513162585</td>\n",
       "      <td>True</td>\n",
       "      <td>77.0</td>\n",
       "      <td>106.0</td>\n",
       "      <td>196</td>\n",
       "      <td>196</td>\n",
       "      <td>108</td>\n",
       "      <td>651</td>\n",
       "      <td>21</td>\n",
       "      <td>True</td>\n",
       "      <td>1435674765</td>\n",
       "    </tr>\n",
       "    <tr>\n",
       "      <th>10</th>\n",
       "      <td>17</td>\n",
       "      <td>1465765342</td>\n",
       "      <td>True</td>\n",
       "      <td>0.0</td>\n",
       "      <td>2.0</td>\n",
       "      <td>6</td>\n",
       "      <td>5</td>\n",
       "      <td>1</td>\n",
       "      <td>13</td>\n",
       "      <td>1</td>\n",
       "      <td>False</td>\n",
       "      <td>1465762612</td>\n",
       "    </tr>\n",
       "    <tr>\n",
       "      <th>11</th>\n",
       "      <td>18</td>\n",
       "      <td>1438541223</td>\n",
       "      <td>True</td>\n",
       "      <td>0.0</td>\n",
       "      <td>0.0</td>\n",
       "      <td>3</td>\n",
       "      <td>2</td>\n",
       "      <td>0</td>\n",
       "      <td>3</td>\n",
       "      <td>1</td>\n",
       "      <td>False</td>\n",
       "      <td>1438541140</td>\n",
       "    </tr>\n",
       "    <tr>\n",
       "      <th>12</th>\n",
       "      <td>20</td>\n",
       "      <td>1443033703</td>\n",
       "      <td>True</td>\n",
       "      <td>0.0</td>\n",
       "      <td>0.0</td>\n",
       "      <td>10</td>\n",
       "      <td>8</td>\n",
       "      <td>0</td>\n",
       "      <td>13</td>\n",
       "      <td>1</td>\n",
       "      <td>False</td>\n",
       "      <td>1443033283</td>\n",
       "    </tr>\n",
       "    <tr>\n",
       "      <th>13</th>\n",
       "      <td>22</td>\n",
       "      <td>1507142631</td>\n",
       "      <td>True</td>\n",
       "      <td>76.0</td>\n",
       "      <td>47.0</td>\n",
       "      <td>198</td>\n",
       "      <td>198</td>\n",
       "      <td>89</td>\n",
       "      <td>492</td>\n",
       "      <td>32</td>\n",
       "      <td>True</td>\n",
       "      <td>1498561010</td>\n",
       "    </tr>\n",
       "    <tr>\n",
       "      <th>14</th>\n",
       "      <td>24</td>\n",
       "      <td>1524764853</td>\n",
       "      <td>False</td>\n",
       "      <td>0.0</td>\n",
       "      <td>0.0</td>\n",
       "      <td>1</td>\n",
       "      <td>1</td>\n",
       "      <td>0</td>\n",
       "      <td>2</td>\n",
       "      <td>1</td>\n",
       "      <td>False</td>\n",
       "      <td>1524764841</td>\n",
       "    </tr>\n",
       "    <tr>\n",
       "      <th>15</th>\n",
       "      <td>25</td>\n",
       "      <td>1524816605</td>\n",
       "      <td>False</td>\n",
       "      <td>1.0</td>\n",
       "      <td>4.0</td>\n",
       "      <td>26</td>\n",
       "      <td>20</td>\n",
       "      <td>10</td>\n",
       "      <td>40</td>\n",
       "      <td>2</td>\n",
       "      <td>False</td>\n",
       "      <td>1524736159</td>\n",
       "    </tr>\n",
       "    <tr>\n",
       "      <th>16</th>\n",
       "      <td>26</td>\n",
       "      <td>1476957222</td>\n",
       "      <td>True</td>\n",
       "      <td>7.0</td>\n",
       "      <td>16.0</td>\n",
       "      <td>27</td>\n",
       "      <td>25</td>\n",
       "      <td>7</td>\n",
       "      <td>32</td>\n",
       "      <td>2</td>\n",
       "      <td>False</td>\n",
       "      <td>1476893661</td>\n",
       "    </tr>\n",
       "    <tr>\n",
       "      <th>17</th>\n",
       "      <td>28</td>\n",
       "      <td>1442305755</td>\n",
       "      <td>True</td>\n",
       "      <td>0.0</td>\n",
       "      <td>0.0</td>\n",
       "      <td>1</td>\n",
       "      <td>1</td>\n",
       "      <td>0</td>\n",
       "      <td>2</td>\n",
       "      <td>1</td>\n",
       "      <td>False</td>\n",
       "      <td>1442305494</td>\n",
       "    </tr>\n",
       "    <tr>\n",
       "      <th>18</th>\n",
       "      <td>30</td>\n",
       "      <td>1510574287</td>\n",
       "      <td>True</td>\n",
       "      <td>119.0</td>\n",
       "      <td>79.0</td>\n",
       "      <td>198</td>\n",
       "      <td>198</td>\n",
       "      <td>150</td>\n",
       "      <td>512</td>\n",
       "      <td>42</td>\n",
       "      <td>True</td>\n",
       "      <td>1467307716</td>\n",
       "    </tr>\n",
       "    <tr>\n",
       "      <th>19</th>\n",
       "      <td>31</td>\n",
       "      <td>1485686263</td>\n",
       "      <td>True</td>\n",
       "      <td>4.0</td>\n",
       "      <td>5.0</td>\n",
       "      <td>27</td>\n",
       "      <td>24</td>\n",
       "      <td>7</td>\n",
       "      <td>34</td>\n",
       "      <td>2</td>\n",
       "      <td>False</td>\n",
       "      <td>1485609800</td>\n",
       "    </tr>\n",
       "  </tbody>\n",
       "</table>\n",
       "</div>"
      ],
      "text/plain": [
       "    user_id  last_timestamp  is_gone_user  correct  wrong  discovered  passed  \\\n",
       "0         1      1472827464          True      0.0    0.0           1       0   \n",
       "1         2      1519226966          True      2.0    0.0           9       9   \n",
       "2         3      1444581588          True     29.0   23.0          91      87   \n",
       "3         5      1499859939          True      2.0    2.0          11      11   \n",
       "4         7      1521634660          True      0.0    0.0           1       1   \n",
       "5         8      1481466913          True      9.0   21.0         109      84   \n",
       "6         9      1484999497          True      0.0    0.0           3       3   \n",
       "7        11      1526140625         False      0.0    0.0           1       0   \n",
       "8        14      1436368676          True      0.0    1.0           4       3   \n",
       "9        16      1513162585          True     77.0  106.0         196     196   \n",
       "10       17      1465765342          True      0.0    2.0           6       5   \n",
       "11       18      1438541223          True      0.0    0.0           3       2   \n",
       "12       20      1443033703          True      0.0    0.0          10       8   \n",
       "13       22      1507142631          True     76.0   47.0         198     198   \n",
       "14       24      1524764853         False      0.0    0.0           1       1   \n",
       "15       25      1524816605         False      1.0    4.0          26      20   \n",
       "16       26      1476957222          True      7.0   16.0          27      25   \n",
       "17       28      1442305755          True      0.0    0.0           1       1   \n",
       "18       30      1510574287          True    119.0   79.0         198     198   \n",
       "19       31      1485686263          True      4.0    5.0          27      24   \n",
       "\n",
       "    started_attempt  viewed  day  passed_course  min_timestamp  \n",
       "0                 0       1    1          False     1472827464  \n",
       "1                 2      10    2          False     1514383364  \n",
       "2                30     192    7          False     1434358476  \n",
       "3                 4      12    2          False     1466156809  \n",
       "4                 0       1    1          False     1521634660  \n",
       "5                37     156    2          False     1480603427  \n",
       "6                 0       4    1          False     1484999434  \n",
       "7                 1       1    1          False     1526140624  \n",
       "8                 1       9    1          False     1436366155  \n",
       "9               108     651   21           True     1435674765  \n",
       "10                1      13    1          False     1465762612  \n",
       "11                0       3    1          False     1438541140  \n",
       "12                0      13    1          False     1443033283  \n",
       "13               89     492   32           True     1498561010  \n",
       "14                0       2    1          False     1524764841  \n",
       "15               10      40    2          False     1524736159  \n",
       "16                7      32    2          False     1476893661  \n",
       "17                0       2    1          False     1442305494  \n",
       "18              150     512   42           True     1467307716  \n",
       "19                7      34    2          False     1485609800  "
      ]
     },
     "execution_count": 52,
     "metadata": {},
     "output_type": "execute_result"
    }
   ],
   "source": [
    "users_data.head(20)"
   ]
  },
  {
   "cell_type": "code",
   "execution_count": null,
   "metadata": {},
   "outputs": [
    {
     "data": {
      "text/html": [
       "<div>\n",
       "<style scoped>\n",
       "    .dataframe tbody tr th:only-of-type {\n",
       "        vertical-align: middle;\n",
       "    }\n",
       "\n",
       "    .dataframe tbody tr th {\n",
       "        vertical-align: top;\n",
       "    }\n",
       "\n",
       "    .dataframe thead th {\n",
       "        text-align: right;\n",
       "    }\n",
       "</style>\n",
       "<table border=\"1\" class=\"dataframe\">\n",
       "  <thead>\n",
       "    <tr style=\"text-align: right;\">\n",
       "      <th></th>\n",
       "      <th>user_id</th>\n",
       "      <th>days</th>\n",
       "    </tr>\n",
       "  </thead>\n",
       "  <tbody>\n",
       "    <tr>\n",
       "      <th>0</th>\n",
       "      <td>2</td>\n",
       "      <td>1</td>\n",
       "    </tr>\n",
       "    <tr>\n",
       "      <th>1</th>\n",
       "      <td>3</td>\n",
       "      <td>1</td>\n",
       "    </tr>\n",
       "    <tr>\n",
       "      <th>2</th>\n",
       "      <td>8</td>\n",
       "      <td>1</td>\n",
       "    </tr>\n",
       "    <tr>\n",
       "      <th>3</th>\n",
       "      <td>14</td>\n",
       "      <td>1</td>\n",
       "    </tr>\n",
       "    <tr>\n",
       "      <th>4</th>\n",
       "      <td>16</td>\n",
       "      <td>3</td>\n",
       "    </tr>\n",
       "  </tbody>\n",
       "</table>\n",
       "</div>"
      ],
      "text/plain": [
       "   user_id  days\n",
       "0        2     1\n",
       "1        3     1\n",
       "2        8     1\n",
       "3       14     1\n",
       "4       16     3"
      ]
     },
     "execution_count": 53,
     "metadata": {},
     "output_type": "execute_result"
    }
   ],
   "source": [
    "X = submissions_data_train.groupby('user_id').day.nunique().to_frame().reset_index() \\\n",
    "    .rename(columns={'day': 'days'})\n",
    "X.head()"
   ]
  },
  {
   "cell_type": "code",
   "execution_count": null,
   "metadata": {},
   "outputs": [
    {
     "data": {
      "text/html": [
       "<div>\n",
       "<style scoped>\n",
       "    .dataframe tbody tr th:only-of-type {\n",
       "        vertical-align: middle;\n",
       "    }\n",
       "\n",
       "    .dataframe tbody tr th {\n",
       "        vertical-align: top;\n",
       "    }\n",
       "\n",
       "    .dataframe thead th {\n",
       "        text-align: right;\n",
       "    }\n",
       "</style>\n",
       "<table border=\"1\" class=\"dataframe\">\n",
       "  <thead>\n",
       "    <tr style=\"text-align: right;\">\n",
       "      <th></th>\n",
       "      <th>user_id</th>\n",
       "      <th>steps_tried</th>\n",
       "    </tr>\n",
       "  </thead>\n",
       "  <tbody>\n",
       "    <tr>\n",
       "      <th>0</th>\n",
       "      <td>2</td>\n",
       "      <td>2</td>\n",
       "    </tr>\n",
       "    <tr>\n",
       "      <th>1</th>\n",
       "      <td>3</td>\n",
       "      <td>4</td>\n",
       "    </tr>\n",
       "    <tr>\n",
       "      <th>2</th>\n",
       "      <td>8</td>\n",
       "      <td>11</td>\n",
       "    </tr>\n",
       "    <tr>\n",
       "      <th>3</th>\n",
       "      <td>14</td>\n",
       "      <td>1</td>\n",
       "    </tr>\n",
       "    <tr>\n",
       "      <th>4</th>\n",
       "      <td>16</td>\n",
       "      <td>23</td>\n",
       "    </tr>\n",
       "  </tbody>\n",
       "</table>\n",
       "</div>"
      ],
      "text/plain": [
       "   user_id  steps_tried\n",
       "0        2            2\n",
       "1        3            4\n",
       "2        8           11\n",
       "3       14            1\n",
       "4       16           23"
      ]
     },
     "execution_count": 54,
     "metadata": {},
     "output_type": "execute_result"
    }
   ],
   "source": [
    "steps_tried = submissions_data_train.groupby('user_id').step_id.nunique().to_frame().reset_index() \\\n",
    "    .rename(columns={'step_id': 'steps_tried'})\n",
    "steps_tried.head()"
   ]
  },
  {
   "cell_type": "code",
   "execution_count": null,
   "metadata": {},
   "outputs": [
    {
     "data": {
      "text/html": [
       "<div>\n",
       "<style scoped>\n",
       "    .dataframe tbody tr th:only-of-type {\n",
       "        vertical-align: middle;\n",
       "    }\n",
       "\n",
       "    .dataframe tbody tr th {\n",
       "        vertical-align: top;\n",
       "    }\n",
       "\n",
       "    .dataframe thead th {\n",
       "        text-align: right;\n",
       "    }\n",
       "</style>\n",
       "<table border=\"1\" class=\"dataframe\">\n",
       "  <thead>\n",
       "    <tr style=\"text-align: right;\">\n",
       "      <th></th>\n",
       "      <th>user_id</th>\n",
       "      <th>days</th>\n",
       "      <th>steps_tried</th>\n",
       "    </tr>\n",
       "  </thead>\n",
       "  <tbody>\n",
       "    <tr>\n",
       "      <th>0</th>\n",
       "      <td>2</td>\n",
       "      <td>1</td>\n",
       "      <td>2</td>\n",
       "    </tr>\n",
       "    <tr>\n",
       "      <th>1</th>\n",
       "      <td>3</td>\n",
       "      <td>1</td>\n",
       "      <td>4</td>\n",
       "    </tr>\n",
       "    <tr>\n",
       "      <th>2</th>\n",
       "      <td>8</td>\n",
       "      <td>1</td>\n",
       "      <td>11</td>\n",
       "    </tr>\n",
       "    <tr>\n",
       "      <th>3</th>\n",
       "      <td>14</td>\n",
       "      <td>1</td>\n",
       "      <td>1</td>\n",
       "    </tr>\n",
       "    <tr>\n",
       "      <th>4</th>\n",
       "      <td>16</td>\n",
       "      <td>3</td>\n",
       "      <td>23</td>\n",
       "    </tr>\n",
       "  </tbody>\n",
       "</table>\n",
       "</div>"
      ],
      "text/plain": [
       "   user_id  days  steps_tried\n",
       "0        2     1            2\n",
       "1        3     1            4\n",
       "2        8     1           11\n",
       "3       14     1            1\n",
       "4       16     3           23"
      ]
     },
     "execution_count": 55,
     "metadata": {},
     "output_type": "execute_result"
    }
   ],
   "source": [
    "X = X.merge(steps_tried, on='user_id', how='outer')\n",
    "X.head()"
   ]
  },
  {
   "cell_type": "code",
   "execution_count": null,
   "metadata": {},
   "outputs": [
    {
     "data": {
      "text/html": [
       "<div>\n",
       "<style scoped>\n",
       "    .dataframe tbody tr th:only-of-type {\n",
       "        vertical-align: middle;\n",
       "    }\n",
       "\n",
       "    .dataframe tbody tr th {\n",
       "        vertical-align: top;\n",
       "    }\n",
       "\n",
       "    .dataframe thead th {\n",
       "        text-align: right;\n",
       "    }\n",
       "</style>\n",
       "<table border=\"1\" class=\"dataframe\">\n",
       "  <thead>\n",
       "    <tr style=\"text-align: right;\">\n",
       "      <th></th>\n",
       "      <th>user_id</th>\n",
       "      <th>days</th>\n",
       "      <th>steps_tried</th>\n",
       "      <th>correct</th>\n",
       "      <th>wrong</th>\n",
       "    </tr>\n",
       "  </thead>\n",
       "  <tbody>\n",
       "    <tr>\n",
       "      <th>0</th>\n",
       "      <td>2</td>\n",
       "      <td>1</td>\n",
       "      <td>2</td>\n",
       "      <td>2</td>\n",
       "      <td>0</td>\n",
       "    </tr>\n",
       "    <tr>\n",
       "      <th>1</th>\n",
       "      <td>3</td>\n",
       "      <td>1</td>\n",
       "      <td>4</td>\n",
       "      <td>4</td>\n",
       "      <td>4</td>\n",
       "    </tr>\n",
       "    <tr>\n",
       "      <th>2</th>\n",
       "      <td>8</td>\n",
       "      <td>1</td>\n",
       "      <td>11</td>\n",
       "      <td>9</td>\n",
       "      <td>21</td>\n",
       "    </tr>\n",
       "    <tr>\n",
       "      <th>3</th>\n",
       "      <td>14</td>\n",
       "      <td>1</td>\n",
       "      <td>1</td>\n",
       "      <td>0</td>\n",
       "      <td>1</td>\n",
       "    </tr>\n",
       "    <tr>\n",
       "      <th>4</th>\n",
       "      <td>16</td>\n",
       "      <td>3</td>\n",
       "      <td>23</td>\n",
       "      <td>23</td>\n",
       "      <td>27</td>\n",
       "    </tr>\n",
       "  </tbody>\n",
       "</table>\n",
       "</div>"
      ],
      "text/plain": [
       "   user_id  days  steps_tried  correct  wrong\n",
       "0        2     1            2        2      0\n",
       "1        3     1            4        4      4\n",
       "2        8     1           11        9     21\n",
       "3       14     1            1        0      1\n",
       "4       16     3           23       23     27"
      ]
     },
     "execution_count": 56,
     "metadata": {},
     "output_type": "execute_result"
    }
   ],
   "source": [
    "X = X.merge(submissions_data_train.pivot_table(index='user_id',\n",
    "                                   columns='submission_status',\n",
    "                                   values='step_id',\n",
    "                                   aggfunc='count',\n",
    "                                   fill_value=0\n",
    "                                  ).reset_index())\n",
    "X.head()"
   ]
  },
  {
   "cell_type": "code",
   "execution_count": null,
   "metadata": {},
   "outputs": [
    {
     "data": {
      "text/html": [
       "<div>\n",
       "<style scoped>\n",
       "    .dataframe tbody tr th:only-of-type {\n",
       "        vertical-align: middle;\n",
       "    }\n",
       "\n",
       "    .dataframe tbody tr th {\n",
       "        vertical-align: top;\n",
       "    }\n",
       "\n",
       "    .dataframe thead th {\n",
       "        text-align: right;\n",
       "    }\n",
       "</style>\n",
       "<table border=\"1\" class=\"dataframe\">\n",
       "  <thead>\n",
       "    <tr style=\"text-align: right;\">\n",
       "      <th></th>\n",
       "      <th>user_id</th>\n",
       "      <th>days</th>\n",
       "      <th>steps_tried</th>\n",
       "      <th>correct</th>\n",
       "      <th>wrong</th>\n",
       "      <th>correct_rating</th>\n",
       "    </tr>\n",
       "  </thead>\n",
       "  <tbody>\n",
       "    <tr>\n",
       "      <th>0</th>\n",
       "      <td>2</td>\n",
       "      <td>1</td>\n",
       "      <td>2</td>\n",
       "      <td>2</td>\n",
       "      <td>0</td>\n",
       "      <td>1.00</td>\n",
       "    </tr>\n",
       "    <tr>\n",
       "      <th>1</th>\n",
       "      <td>3</td>\n",
       "      <td>1</td>\n",
       "      <td>4</td>\n",
       "      <td>4</td>\n",
       "      <td>4</td>\n",
       "      <td>0.50</td>\n",
       "    </tr>\n",
       "    <tr>\n",
       "      <th>2</th>\n",
       "      <td>8</td>\n",
       "      <td>1</td>\n",
       "      <td>11</td>\n",
       "      <td>9</td>\n",
       "      <td>21</td>\n",
       "      <td>0.30</td>\n",
       "    </tr>\n",
       "    <tr>\n",
       "      <th>3</th>\n",
       "      <td>14</td>\n",
       "      <td>1</td>\n",
       "      <td>1</td>\n",
       "      <td>0</td>\n",
       "      <td>1</td>\n",
       "      <td>0.00</td>\n",
       "    </tr>\n",
       "    <tr>\n",
       "      <th>4</th>\n",
       "      <td>16</td>\n",
       "      <td>3</td>\n",
       "      <td>23</td>\n",
       "      <td>23</td>\n",
       "      <td>27</td>\n",
       "      <td>0.46</td>\n",
       "    </tr>\n",
       "  </tbody>\n",
       "</table>\n",
       "</div>"
      ],
      "text/plain": [
       "   user_id  days  steps_tried  correct  wrong  correct_rating\n",
       "0        2     1            2        2      0            1.00\n",
       "1        3     1            4        4      4            0.50\n",
       "2        8     1           11        9     21            0.30\n",
       "3       14     1            1        0      1            0.00\n",
       "4       16     3           23       23     27            0.46"
      ]
     },
     "execution_count": 57,
     "metadata": {},
     "output_type": "execute_result"
    }
   ],
   "source": [
    "X['correct_rating'] = X.correct / (X.correct + X.wrong)\n",
    "X.head()"
   ]
  },
  {
   "cell_type": "code",
   "execution_count": null,
   "metadata": {},
   "outputs": [
    {
     "data": {
      "text/html": [
       "<div>\n",
       "<style scoped>\n",
       "    .dataframe tbody tr th:only-of-type {\n",
       "        vertical-align: middle;\n",
       "    }\n",
       "\n",
       "    .dataframe tbody tr th {\n",
       "        vertical-align: top;\n",
       "    }\n",
       "\n",
       "    .dataframe thead th {\n",
       "        text-align: right;\n",
       "    }\n",
       "</style>\n",
       "<table border=\"1\" class=\"dataframe\">\n",
       "  <thead>\n",
       "    <tr style=\"text-align: right;\">\n",
       "      <th></th>\n",
       "      <th>user_id</th>\n",
       "      <th>days</th>\n",
       "      <th>steps_tried</th>\n",
       "      <th>correct</th>\n",
       "      <th>wrong</th>\n",
       "      <th>correct_rating</th>\n",
       "      <th>viewed</th>\n",
       "    </tr>\n",
       "  </thead>\n",
       "  <tbody>\n",
       "    <tr>\n",
       "      <th>0</th>\n",
       "      <td>2</td>\n",
       "      <td>1.0</td>\n",
       "      <td>2.0</td>\n",
       "      <td>2.0</td>\n",
       "      <td>0.0</td>\n",
       "      <td>1.00</td>\n",
       "      <td>9</td>\n",
       "    </tr>\n",
       "    <tr>\n",
       "      <th>1</th>\n",
       "      <td>3</td>\n",
       "      <td>1.0</td>\n",
       "      <td>4.0</td>\n",
       "      <td>4.0</td>\n",
       "      <td>4.0</td>\n",
       "      <td>0.50</td>\n",
       "      <td>20</td>\n",
       "    </tr>\n",
       "    <tr>\n",
       "      <th>2</th>\n",
       "      <td>8</td>\n",
       "      <td>1.0</td>\n",
       "      <td>11.0</td>\n",
       "      <td>9.0</td>\n",
       "      <td>21.0</td>\n",
       "      <td>0.30</td>\n",
       "      <td>154</td>\n",
       "    </tr>\n",
       "    <tr>\n",
       "      <th>3</th>\n",
       "      <td>14</td>\n",
       "      <td>1.0</td>\n",
       "      <td>1.0</td>\n",
       "      <td>0.0</td>\n",
       "      <td>1.0</td>\n",
       "      <td>0.00</td>\n",
       "      <td>9</td>\n",
       "    </tr>\n",
       "    <tr>\n",
       "      <th>4</th>\n",
       "      <td>16</td>\n",
       "      <td>3.0</td>\n",
       "      <td>23.0</td>\n",
       "      <td>23.0</td>\n",
       "      <td>27.0</td>\n",
       "      <td>0.46</td>\n",
       "      <td>132</td>\n",
       "    </tr>\n",
       "  </tbody>\n",
       "</table>\n",
       "</div>"
      ],
      "text/plain": [
       "   user_id  days  steps_tried  correct  wrong  correct_rating  viewed\n",
       "0        2   1.0          2.0      2.0    0.0            1.00       9\n",
       "1        3   1.0          4.0      4.0    4.0            0.50      20\n",
       "2        8   1.0         11.0      9.0   21.0            0.30     154\n",
       "3       14   1.0          1.0      0.0    1.0            0.00       9\n",
       "4       16   3.0         23.0     23.0   27.0            0.46     132"
      ]
     },
     "execution_count": 58,
     "metadata": {},
     "output_type": "execute_result"
    }
   ],
   "source": [
    "X = X.merge(events_data_train.pivot_table(index='user_id',\n",
    "                                   columns='action',\n",
    "                                   values='step_id',\n",
    "                                   aggfunc='count',\n",
    "                                   fill_value=0\n",
    "                                  ).reset_index()[['user_id', 'viewed']], how='outer')\n",
    "X = X.fillna(0)\n",
    "X.head()"
   ]
  },
  {
   "cell_type": "code",
   "execution_count": null,
   "metadata": {},
   "outputs": [
    {
     "data": {
      "text/html": [
       "<div>\n",
       "<style scoped>\n",
       "    .dataframe tbody tr th:only-of-type {\n",
       "        vertical-align: middle;\n",
       "    }\n",
       "\n",
       "    .dataframe tbody tr th {\n",
       "        vertical-align: top;\n",
       "    }\n",
       "\n",
       "    .dataframe thead th {\n",
       "        text-align: right;\n",
       "    }\n",
       "</style>\n",
       "<table border=\"1\" class=\"dataframe\">\n",
       "  <thead>\n",
       "    <tr style=\"text-align: right;\">\n",
       "      <th></th>\n",
       "      <th>user_id</th>\n",
       "      <th>days</th>\n",
       "      <th>steps_tried</th>\n",
       "      <th>correct</th>\n",
       "      <th>wrong</th>\n",
       "      <th>correct_rating</th>\n",
       "      <th>viewed</th>\n",
       "      <th>passed_course</th>\n",
       "      <th>is_gone_user</th>\n",
       "    </tr>\n",
       "  </thead>\n",
       "  <tbody>\n",
       "    <tr>\n",
       "      <th>0</th>\n",
       "      <td>2</td>\n",
       "      <td>1.0</td>\n",
       "      <td>2.0</td>\n",
       "      <td>2.0</td>\n",
       "      <td>0.0</td>\n",
       "      <td>1.00</td>\n",
       "      <td>9</td>\n",
       "      <td>False</td>\n",
       "      <td>True</td>\n",
       "    </tr>\n",
       "    <tr>\n",
       "      <th>1</th>\n",
       "      <td>3</td>\n",
       "      <td>1.0</td>\n",
       "      <td>4.0</td>\n",
       "      <td>4.0</td>\n",
       "      <td>4.0</td>\n",
       "      <td>0.50</td>\n",
       "      <td>20</td>\n",
       "      <td>False</td>\n",
       "      <td>True</td>\n",
       "    </tr>\n",
       "    <tr>\n",
       "      <th>2</th>\n",
       "      <td>8</td>\n",
       "      <td>1.0</td>\n",
       "      <td>11.0</td>\n",
       "      <td>9.0</td>\n",
       "      <td>21.0</td>\n",
       "      <td>0.30</td>\n",
       "      <td>154</td>\n",
       "      <td>False</td>\n",
       "      <td>True</td>\n",
       "    </tr>\n",
       "    <tr>\n",
       "      <th>3</th>\n",
       "      <td>14</td>\n",
       "      <td>1.0</td>\n",
       "      <td>1.0</td>\n",
       "      <td>0.0</td>\n",
       "      <td>1.0</td>\n",
       "      <td>0.00</td>\n",
       "      <td>9</td>\n",
       "      <td>False</td>\n",
       "      <td>True</td>\n",
       "    </tr>\n",
       "    <tr>\n",
       "      <th>4</th>\n",
       "      <td>16</td>\n",
       "      <td>3.0</td>\n",
       "      <td>23.0</td>\n",
       "      <td>23.0</td>\n",
       "      <td>27.0</td>\n",
       "      <td>0.46</td>\n",
       "      <td>132</td>\n",
       "      <td>True</td>\n",
       "      <td>True</td>\n",
       "    </tr>\n",
       "  </tbody>\n",
       "</table>\n",
       "</div>"
      ],
      "text/plain": [
       "   user_id  days  steps_tried  correct  wrong  correct_rating  viewed  \\\n",
       "0        2   1.0          2.0      2.0    0.0            1.00       9   \n",
       "1        3   1.0          4.0      4.0    4.0            0.50      20   \n",
       "2        8   1.0         11.0      9.0   21.0            0.30     154   \n",
       "3       14   1.0          1.0      0.0    1.0            0.00       9   \n",
       "4       16   3.0         23.0     23.0   27.0            0.46     132   \n",
       "\n",
       "   passed_course  is_gone_user  \n",
       "0          False          True  \n",
       "1          False          True  \n",
       "2          False          True  \n",
       "3          False          True  \n",
       "4           True          True  "
      ]
     },
     "execution_count": 59,
     "metadata": {},
     "output_type": "execute_result"
    }
   ],
   "source": [
    "X = X.merge(users_data[['user_id','passed_course', 'is_gone_user']], how='outer')\n",
    "X.head()"
   ]
  },
  {
   "cell_type": "code",
   "execution_count": null,
   "metadata": {},
   "outputs": [
    {
     "data": {
      "text/plain": [
       "(17985, 9)"
      ]
     },
     "execution_count": 60,
     "metadata": {},
     "output_type": "execute_result"
    }
   ],
   "source": [
    "X = X[~((X.is_gone_user == False) & (X.passed_course == False))]\n",
    "X.shape"
   ]
  },
  {
   "cell_type": "code",
   "execution_count": null,
   "metadata": {},
   "outputs": [],
   "source": [
    "y = X.passed_course.map(int)"
   ]
  },
  {
   "cell_type": "code",
   "execution_count": null,
   "metadata": {},
   "outputs": [],
   "source": [
    "X = X.drop(['passed_course', 'is_gone_user'], axis=1)"
   ]
  },
  {
   "cell_type": "code",
   "execution_count": null,
   "metadata": {},
   "outputs": [
    {
     "data": {
      "text/html": [
       "<div>\n",
       "<style scoped>\n",
       "    .dataframe tbody tr th:only-of-type {\n",
       "        vertical-align: middle;\n",
       "    }\n",
       "\n",
       "    .dataframe tbody tr th {\n",
       "        vertical-align: top;\n",
       "    }\n",
       "\n",
       "    .dataframe thead th {\n",
       "        text-align: right;\n",
       "    }\n",
       "</style>\n",
       "<table border=\"1\" class=\"dataframe\">\n",
       "  <thead>\n",
       "    <tr style=\"text-align: right;\">\n",
       "      <th></th>\n",
       "      <th>days</th>\n",
       "      <th>steps_tried</th>\n",
       "      <th>correct</th>\n",
       "      <th>wrong</th>\n",
       "      <th>correct_rating</th>\n",
       "      <th>viewed</th>\n",
       "    </tr>\n",
       "    <tr>\n",
       "      <th>user_id</th>\n",
       "      <th></th>\n",
       "      <th></th>\n",
       "      <th></th>\n",
       "      <th></th>\n",
       "      <th></th>\n",
       "      <th></th>\n",
       "    </tr>\n",
       "  </thead>\n",
       "  <tbody>\n",
       "    <tr>\n",
       "      <th>2</th>\n",
       "      <td>1.0</td>\n",
       "      <td>2.0</td>\n",
       "      <td>2.0</td>\n",
       "      <td>0.0</td>\n",
       "      <td>1.00</td>\n",
       "      <td>9</td>\n",
       "    </tr>\n",
       "    <tr>\n",
       "      <th>3</th>\n",
       "      <td>1.0</td>\n",
       "      <td>4.0</td>\n",
       "      <td>4.0</td>\n",
       "      <td>4.0</td>\n",
       "      <td>0.50</td>\n",
       "      <td>20</td>\n",
       "    </tr>\n",
       "    <tr>\n",
       "      <th>8</th>\n",
       "      <td>1.0</td>\n",
       "      <td>11.0</td>\n",
       "      <td>9.0</td>\n",
       "      <td>21.0</td>\n",
       "      <td>0.30</td>\n",
       "      <td>154</td>\n",
       "    </tr>\n",
       "    <tr>\n",
       "      <th>14</th>\n",
       "      <td>1.0</td>\n",
       "      <td>1.0</td>\n",
       "      <td>0.0</td>\n",
       "      <td>1.0</td>\n",
       "      <td>0.00</td>\n",
       "      <td>9</td>\n",
       "    </tr>\n",
       "    <tr>\n",
       "      <th>16</th>\n",
       "      <td>3.0</td>\n",
       "      <td>23.0</td>\n",
       "      <td>23.0</td>\n",
       "      <td>27.0</td>\n",
       "      <td>0.46</td>\n",
       "      <td>132</td>\n",
       "    </tr>\n",
       "  </tbody>\n",
       "</table>\n",
       "</div>"
      ],
      "text/plain": [
       "         days  steps_tried  correct  wrong  correct_rating  viewed\n",
       "user_id                                                           \n",
       "2         1.0          2.0      2.0    0.0            1.00       9\n",
       "3         1.0          4.0      4.0    4.0            0.50      20\n",
       "8         1.0         11.0      9.0   21.0            0.30     154\n",
       "14        1.0          1.0      0.0    1.0            0.00       9\n",
       "16        3.0         23.0     23.0   27.0            0.46     132"
      ]
     },
     "execution_count": 63,
     "metadata": {},
     "output_type": "execute_result"
    }
   ],
   "source": [
    "X = X.set_index(X.user_id)\n",
    "X = X.drop(['user_id'], axis=1)\n",
    "X.head()"
   ]
  },
  {
   "cell_type": "markdown",
   "metadata": {},
   "source": [
    "decision tree prediction"
   ]
  },
  {
   "cell_type": "code",
   "execution_count": null,
   "metadata": {},
   "outputs": [],
   "source": [
    "clf = tree.DecisionTreeClassifier(criterion='entropy', max_depth=1)\n"
   ]
  },
  {
   "cell_type": "code",
   "execution_count": null,
   "metadata": {},
   "outputs": [],
   "source": [
    "X_train, X_test, y_train, y_test = train_test_split(X, y, train_size = 0.50)\n"
   ]
  },
  {
   "cell_type": "code",
   "execution_count": null,
   "metadata": {},
   "outputs": [
    {
     "data": {
      "text/plain": [
       "DecisionTreeClassifier(criterion='entropy', max_depth=1)"
      ]
     },
     "execution_count": 66,
     "metadata": {},
     "output_type": "execute_result"
    }
   ],
   "source": [
    "clf.fit(X_train, y_train)"
   ]
  },
  {
   "cell_type": "code",
   "execution_count": null,
   "metadata": {},
   "outputs": [],
   "source": [
    "predictions_not_grid = clf.predict(X_test)\n"
   ]
  },
  {
   "cell_type": "code",
   "execution_count": null,
   "metadata": {},
   "outputs": [
    {
     "data": {
      "text/plain": [
       "0.9188167259786477"
      ]
     },
     "execution_count": 68,
     "metadata": {},
     "output_type": "execute_result"
    }
   ],
   "source": [
    "clf.score(X_train, y_train)"
   ]
  },
  {
   "cell_type": "code",
   "execution_count": null,
   "metadata": {},
   "outputs": [
    {
     "name": "stderr",
     "output_type": "stream",
     "text": [
      "/Users/user/opt/anaconda3/envs/conda/lib/python3.9/site-packages/sklearn/metrics/_classification.py:1318: UndefinedMetricWarning: Precision is ill-defined and being set to 0.0 due to no predicted samples. Use `zero_division` parameter to control this behavior.\n",
      "  _warn_prf(average, modifier, msg_start, len(result))\n"
     ]
    },
    {
     "data": {
      "text/plain": [
       "0.0"
      ]
     },
     "execution_count": 69,
     "metadata": {},
     "output_type": "execute_result"
    }
   ],
   "source": [
    "precision_score(y_test, predictions_not_grid)\n"
   ]
  },
  {
   "cell_type": "code",
   "execution_count": null,
   "metadata": {},
   "outputs": [
    {
     "data": {
      "text/plain": [
       "0.0"
      ]
     },
     "execution_count": 70,
     "metadata": {},
     "output_type": "execute_result"
    }
   ],
   "source": [
    "recall_score(y_test, predictions_not_grid)"
   ]
  },
  {
   "cell_type": "code",
   "execution_count": null,
   "metadata": {},
   "outputs": [],
   "source": [
    "params = {\"max_depth\": range(1, 10), \"criterion\": ['entropy', 'gini'], \"min_samples_split\": range(2, 5), \"min_samples_leaf\": range(1, 5)}"
   ]
  },
  {
   "cell_type": "code",
   "execution_count": null,
   "metadata": {},
   "outputs": [],
   "source": [
    "grid_search_cv_clf = GridSearchCV(clf, params, cv=5)"
   ]
  },
  {
   "cell_type": "code",
   "execution_count": null,
   "metadata": {},
   "outputs": [
    {
     "data": {
      "text/plain": [
       "GridSearchCV(cv=5,\n",
       "             estimator=DecisionTreeClassifier(criterion='entropy', max_depth=1),\n",
       "             param_grid={'criterion': ['entropy', 'gini'],\n",
       "                         'max_depth': range(1, 10),\n",
       "                         'min_samples_leaf': range(1, 5),\n",
       "                         'min_samples_split': range(2, 5)})"
      ]
     },
     "execution_count": 73,
     "metadata": {},
     "output_type": "execute_result"
    }
   ],
   "source": [
    "grid_search_cv_clf.fit(X_train, y_train)"
   ]
  },
  {
   "cell_type": "code",
   "execution_count": null,
   "metadata": {},
   "outputs": [
    {
     "data": {
      "text/plain": [
       "DecisionTreeClassifier(criterion='entropy', max_depth=3)"
      ]
     },
     "execution_count": 74,
     "metadata": {},
     "output_type": "execute_result"
    }
   ],
   "source": [
    "grid_search_cv_clf.best_estimator_"
   ]
  },
  {
   "cell_type": "code",
   "execution_count": null,
   "metadata": {},
   "outputs": [
    {
     "data": {
      "text/plain": [
       "[Text(0.5, 0.75, 'X[2] <= 7.5\\nentropy = 0.406\\nsamples = 8992\\nvalue = [8262, 730]'),\n",
       " Text(0.25, 0.25, 'entropy = 0.21\\nsamples = 7359\\nvalue = [7115, 244]'),\n",
       " Text(0.75, 0.25, 'entropy = 0.878\\nsamples = 1633\\nvalue = [1147, 486]')]"
      ]
     },
     "execution_count": 75,
     "metadata": {},
     "output_type": "execute_result"
    },
    {
     "data": {
      "image/png": "[encoded data removed]",
      "text/plain": [
       "<Figure size 648x432 with 1 Axes>"
      ]
     },
     "metadata": {},
     "output_type": "display_data"
    }
   ],
   "source": [
    "tree.plot_tree(clf, filled=True)"
   ]
  },
  {
   "cell_type": "code",
   "execution_count": null,
   "metadata": {},
   "outputs": [
    {
     "data": {
      "text/plain": [
       "0.6329113924050633"
      ]
     },
     "execution_count": 76,
     "metadata": {},
     "output_type": "execute_result"
    }
   ],
   "source": [
    "predictions = grid_search_cv_clf.best_estimator_.predict(X_test)\n",
    "precision_score(y_test, predictions)"
   ]
  },
  {
   "cell_type": "code",
   "execution_count": null,
   "metadata": {},
   "outputs": [
    {
     "data": {
      "text/plain": [
       "0.9250528188591126"
      ]
     },
     "execution_count": 77,
     "metadata": {},
     "output_type": "execute_result"
    }
   ],
   "source": [
    "grid_search_cv_clf.score(X_test, y_test)"
   ]
  },
  {
   "cell_type": "code",
   "execution_count": null,
   "metadata": {},
   "outputs": [
    {
     "data": {
      "text/plain": [
       "0.07194244604316546"
      ]
     },
     "execution_count": 78,
     "metadata": {},
     "output_type": "execute_result"
    }
   ],
   "source": [
    "recall_score(y_test, predictions)"
   ]
  },
  {
   "cell_type": "code",
   "execution_count": null,
   "metadata": {},
   "outputs": [
    {
     "data": {
      "text/plain": [
       "0.7037037037037037"
      ]
     },
     "execution_count": 79,
     "metadata": {},
     "output_type": "execute_result"
    }
   ],
   "source": [
    "predictions_train = grid_search_cv_clf.best_estimator_.predict(X_train)\n",
    "precision_score(y_train, predictions_train)"
   ]
  },
  {
   "cell_type": "code",
   "execution_count": null,
   "metadata": {},
   "outputs": [
    {
     "data": {
      "text/plain": [
       "0.07808219178082192"
      ]
     },
     "execution_count": 80,
     "metadata": {},
     "output_type": "execute_result"
    }
   ],
   "source": [
    "recall_score(y_train, predictions_train)"
   ]
  },
  {
   "cell_type": "code",
   "execution_count": null,
   "metadata": {},
   "outputs": [
    {
     "data": {
      "text/plain": [
       "0    8914\n",
       "1      79\n",
       "Name: qwe, dtype: int64"
      ]
     },
     "execution_count": 81,
     "metadata": {},
     "output_type": "execute_result"
    }
   ],
   "source": [
    "predictions_ser = pd.Series(predictions)\n",
    "predictions_ser = predictions_ser.to_frame()\n",
    "# predictions_ser[predictions_ser[0] == 1].count()\n",
    "predictions_ser = predictions_ser.rename(columns={0: 'qwe'})\n",
    "predictions_ser.qwe.value_counts()"
   ]
  },
  {
   "cell_type": "code",
   "execution_count": null,
   "metadata": {},
   "outputs": [],
   "source": [
    "clf_rf = RandomForestClassifier()"
   ]
  },
  {
   "cell_type": "code",
   "execution_count": null,
   "metadata": {},
   "outputs": [],
   "source": [
    "rf_params =  {\"n_estimators\": [10, 20, 30], \"max_depth\": [2, 5, 7, 10]}"
   ]
  },
  {
   "cell_type": "code",
   "execution_count": null,
   "metadata": {},
   "outputs": [],
   "source": [
    "grid_search_cv_rf_clf = GridSearchCV(clf_rf, rf_params, cv=5)"
   ]
  },
  {
   "cell_type": "code",
   "execution_count": null,
   "metadata": {},
   "outputs": [
    {
     "data": {
      "text/plain": [
       "GridSearchCV(cv=5, estimator=RandomForestClassifier(),\n",
       "             param_grid={'max_depth': [2, 5, 7, 10],\n",
       "                         'n_estimators': [10, 20, 30]})"
      ]
     },
     "execution_count": 85,
     "metadata": {},
     "output_type": "execute_result"
    }
   ],
   "source": [
    "grid_search_cv_rf_clf.fit(X_train, y_train)"
   ]
  },
  {
   "cell_type": "code",
   "execution_count": null,
   "metadata": {},
   "outputs": [
    {
     "data": {
      "text/plain": [
       "{'max_depth': 7, 'n_estimators': 20}"
      ]
     },
     "execution_count": 86,
     "metadata": {},
     "output_type": "execute_result"
    }
   ],
   "source": [
    "grid_search_cv_rf_clf.best_params_"
   ]
  },
  {
   "cell_type": "code",
   "execution_count": null,
   "metadata": {},
   "outputs": [],
   "source": [
    "predict_rf = grid_search_cv_rf_clf.predict(X_test)"
   ]
  },
  {
   "cell_type": "code",
   "execution_count": null,
   "metadata": {},
   "outputs": [
    {
     "data": {
      "text/plain": [
       "0.9250528188591126"
      ]
     },
     "execution_count": 88,
     "metadata": {},
     "output_type": "execute_result"
    }
   ],
   "source": [
    "grid_search_cv_rf_clf.score(X_test, y_test)"
   ]
  },
  {
   "cell_type": "code",
   "execution_count": null,
   "metadata": {},
   "outputs": [
    {
     "data": {
      "text/plain": [
       "0.6105263157894737"
      ]
     },
     "execution_count": 89,
     "metadata": {},
     "output_type": "execute_result"
    }
   ],
   "source": [
    "precision_score(y_test, predict_rf)"
   ]
  },
  {
   "cell_type": "code",
   "execution_count": null,
   "metadata": {},
   "outputs": [
    {
     "data": {
      "text/plain": [
       "0.08345323741007195"
      ]
     },
     "execution_count": 90,
     "metadata": {},
     "output_type": "execute_result"
    }
   ],
   "source": [
    "recall_score(y_test, predict_rf)"
   ]
  },
  {
   "cell_type": "code",
   "execution_count": null,
   "metadata": {},
   "outputs": [],
   "source": [
    "submissions_data_test = pd.read_csv('https://stepik.org/media/attachments/course/4852/submission_data_test.csv')\n",
    "events_data_test = pd.read_csv('https://stepik.org/media/attachments/course/4852/events_data_test.csv')"
   ]
  },
  {
   "cell_type": "code",
   "execution_count": null,
   "metadata": {},
   "outputs": [
    {
     "data": {
      "text/plain": [
       "2803"
      ]
     },
     "execution_count": 469,
     "metadata": {},
     "output_type": "execute_result"
    }
   ],
   "source": [
    "submissions_data_test.user_id.nunique()"
   ]
  },
  {
   "cell_type": "code",
   "execution_count": null,
   "metadata": {},
   "outputs": [
    {
     "data": {
      "text/plain": [
       "6184"
      ]
     },
     "execution_count": 470,
     "metadata": {},
     "output_type": "execute_result"
    }
   ],
   "source": [
    "events_data_test.user_id.nunique()"
   ]
  },
  {
   "cell_type": "code",
   "execution_count": null,
   "metadata": {},
   "outputs": [
    {
     "data": {
      "text/html": [
       "<div>\n",
       "<style scoped>\n",
       "    .dataframe tbody tr th:only-of-type {\n",
       "        vertical-align: middle;\n",
       "    }\n",
       "\n",
       "    .dataframe tbody tr th {\n",
       "        vertical-align: top;\n",
       "    }\n",
       "\n",
       "    .dataframe thead th {\n",
       "        text-align: right;\n",
       "    }\n",
       "</style>\n",
       "<table border=\"1\" class=\"dataframe\">\n",
       "  <thead>\n",
       "    <tr style=\"text-align: right;\">\n",
       "      <th></th>\n",
       "      <th>step_id</th>\n",
       "      <th>timestamp</th>\n",
       "      <th>submission_status</th>\n",
       "      <th>user_id</th>\n",
       "    </tr>\n",
       "  </thead>\n",
       "  <tbody>\n",
       "    <tr>\n",
       "      <th>0</th>\n",
       "      <td>31971</td>\n",
       "      <td>1526800961</td>\n",
       "      <td>wrong</td>\n",
       "      <td>24370</td>\n",
       "    </tr>\n",
       "    <tr>\n",
       "      <th>1</th>\n",
       "      <td>31971</td>\n",
       "      <td>1526800976</td>\n",
       "      <td>wrong</td>\n",
       "      <td>24370</td>\n",
       "    </tr>\n",
       "    <tr>\n",
       "      <th>2</th>\n",
       "      <td>31971</td>\n",
       "      <td>1526800993</td>\n",
       "      <td>wrong</td>\n",
       "      <td>24370</td>\n",
       "    </tr>\n",
       "    <tr>\n",
       "      <th>3</th>\n",
       "      <td>31971</td>\n",
       "      <td>1526801054</td>\n",
       "      <td>correct</td>\n",
       "      <td>24370</td>\n",
       "    </tr>\n",
       "    <tr>\n",
       "      <th>4</th>\n",
       "      <td>31972</td>\n",
       "      <td>1526800664</td>\n",
       "      <td>wrong</td>\n",
       "      <td>24370</td>\n",
       "    </tr>\n",
       "  </tbody>\n",
       "</table>\n",
       "</div>"
      ],
      "text/plain": [
       "   step_id   timestamp submission_status  user_id\n",
       "0    31971  1526800961             wrong    24370\n",
       "1    31971  1526800976             wrong    24370\n",
       "2    31971  1526800993             wrong    24370\n",
       "3    31971  1526801054           correct    24370\n",
       "4    31972  1526800664             wrong    24370"
      ]
     },
     "execution_count": 471,
     "metadata": {},
     "output_type": "execute_result"
    }
   ],
   "source": [
    "submissions_data_test.head()"
   ]
  },
  {
   "cell_type": "code",
   "execution_count": null,
   "metadata": {},
   "outputs": [
    {
     "data": {
      "text/html": [
       "<div>\n",
       "<style scoped>\n",
       "    .dataframe tbody tr th:only-of-type {\n",
       "        vertical-align: middle;\n",
       "    }\n",
       "\n",
       "    .dataframe tbody tr th {\n",
       "        vertical-align: top;\n",
       "    }\n",
       "\n",
       "    .dataframe thead th {\n",
       "        text-align: right;\n",
       "    }\n",
       "</style>\n",
       "<table border=\"1\" class=\"dataframe\">\n",
       "  <thead>\n",
       "    <tr style=\"text-align: right;\">\n",
       "      <th></th>\n",
       "      <th>step_id</th>\n",
       "      <th>timestamp</th>\n",
       "      <th>action</th>\n",
       "      <th>user_id</th>\n",
       "    </tr>\n",
       "  </thead>\n",
       "  <tbody>\n",
       "    <tr>\n",
       "      <th>0</th>\n",
       "      <td>30456</td>\n",
       "      <td>1526893787</td>\n",
       "      <td>viewed</td>\n",
       "      <td>24417</td>\n",
       "    </tr>\n",
       "    <tr>\n",
       "      <th>1</th>\n",
       "      <td>30456</td>\n",
       "      <td>1526893797</td>\n",
       "      <td>viewed</td>\n",
       "      <td>24417</td>\n",
       "    </tr>\n",
       "    <tr>\n",
       "      <th>2</th>\n",
       "      <td>30456</td>\n",
       "      <td>1526893954</td>\n",
       "      <td>viewed</td>\n",
       "      <td>24417</td>\n",
       "    </tr>\n",
       "    <tr>\n",
       "      <th>3</th>\n",
       "      <td>30456</td>\n",
       "      <td>1526895780</td>\n",
       "      <td>viewed</td>\n",
       "      <td>24417</td>\n",
       "    </tr>\n",
       "    <tr>\n",
       "      <th>4</th>\n",
       "      <td>30456</td>\n",
       "      <td>1526893787</td>\n",
       "      <td>discovered</td>\n",
       "      <td>24417</td>\n",
       "    </tr>\n",
       "  </tbody>\n",
       "</table>\n",
       "</div>"
      ],
      "text/plain": [
       "   step_id   timestamp      action  user_id\n",
       "0    30456  1526893787      viewed    24417\n",
       "1    30456  1526893797      viewed    24417\n",
       "2    30456  1526893954      viewed    24417\n",
       "3    30456  1526895780      viewed    24417\n",
       "4    30456  1526893787  discovered    24417"
      ]
     },
     "execution_count": 472,
     "metadata": {},
     "output_type": "execute_result"
    }
   ],
   "source": [
    "events_data_test.head()"
   ]
  },
  {
   "cell_type": "code",
   "execution_count": null,
   "metadata": {},
   "outputs": [
    {
     "data": {
      "text/html": [
       "<div>\n",
       "<style scoped>\n",
       "    .dataframe tbody tr th:only-of-type {\n",
       "        vertical-align: middle;\n",
       "    }\n",
       "\n",
       "    .dataframe tbody tr th {\n",
       "        vertical-align: top;\n",
       "    }\n",
       "\n",
       "    .dataframe thead th {\n",
       "        text-align: right;\n",
       "    }\n",
       "</style>\n",
       "<table border=\"1\" class=\"dataframe\">\n",
       "  <thead>\n",
       "    <tr style=\"text-align: right;\">\n",
       "      <th>action</th>\n",
       "      <th>user_id</th>\n",
       "      <th>discovered</th>\n",
       "      <th>passed</th>\n",
       "      <th>started_attempt</th>\n",
       "      <th>viewed</th>\n",
       "    </tr>\n",
       "  </thead>\n",
       "  <tbody>\n",
       "    <tr>\n",
       "      <th>0</th>\n",
       "      <td>4</td>\n",
       "      <td>1</td>\n",
       "      <td>1</td>\n",
       "      <td>0</td>\n",
       "      <td>1</td>\n",
       "    </tr>\n",
       "    <tr>\n",
       "      <th>1</th>\n",
       "      <td>6</td>\n",
       "      <td>1</td>\n",
       "      <td>1</td>\n",
       "      <td>0</td>\n",
       "      <td>1</td>\n",
       "    </tr>\n",
       "    <tr>\n",
       "      <th>2</th>\n",
       "      <td>10</td>\n",
       "      <td>2</td>\n",
       "      <td>2</td>\n",
       "      <td>0</td>\n",
       "      <td>6</td>\n",
       "    </tr>\n",
       "    <tr>\n",
       "      <th>3</th>\n",
       "      <td>12</td>\n",
       "      <td>11</td>\n",
       "      <td>9</td>\n",
       "      <td>4</td>\n",
       "      <td>14</td>\n",
       "    </tr>\n",
       "    <tr>\n",
       "      <th>4</th>\n",
       "      <td>13</td>\n",
       "      <td>70</td>\n",
       "      <td>70</td>\n",
       "      <td>35</td>\n",
       "      <td>105</td>\n",
       "    </tr>\n",
       "    <tr>\n",
       "      <th>...</th>\n",
       "      <td>...</td>\n",
       "      <td>...</td>\n",
       "      <td>...</td>\n",
       "      <td>...</td>\n",
       "      <td>...</td>\n",
       "    </tr>\n",
       "    <tr>\n",
       "      <th>6179</th>\n",
       "      <td>26791</td>\n",
       "      <td>1</td>\n",
       "      <td>1</td>\n",
       "      <td>0</td>\n",
       "      <td>1</td>\n",
       "    </tr>\n",
       "    <tr>\n",
       "      <th>6180</th>\n",
       "      <td>26795</td>\n",
       "      <td>1</td>\n",
       "      <td>1</td>\n",
       "      <td>0</td>\n",
       "      <td>1</td>\n",
       "    </tr>\n",
       "    <tr>\n",
       "      <th>6181</th>\n",
       "      <td>26796</td>\n",
       "      <td>6</td>\n",
       "      <td>4</td>\n",
       "      <td>2</td>\n",
       "      <td>12</td>\n",
       "    </tr>\n",
       "    <tr>\n",
       "      <th>6182</th>\n",
       "      <td>26799</td>\n",
       "      <td>6</td>\n",
       "      <td>6</td>\n",
       "      <td>2</td>\n",
       "      <td>6</td>\n",
       "    </tr>\n",
       "    <tr>\n",
       "      <th>6183</th>\n",
       "      <td>26800</td>\n",
       "      <td>1</td>\n",
       "      <td>0</td>\n",
       "      <td>1</td>\n",
       "      <td>1</td>\n",
       "    </tr>\n",
       "  </tbody>\n",
       "</table>\n",
       "<p>6184 rows × 5 columns</p>\n",
       "</div>"
      ],
      "text/plain": [
       "action  user_id  discovered  passed  started_attempt  viewed\n",
       "0             4           1       1                0       1\n",
       "1             6           1       1                0       1\n",
       "2            10           2       2                0       6\n",
       "3            12          11       9                4      14\n",
       "4            13          70      70               35     105\n",
       "...         ...         ...     ...              ...     ...\n",
       "6179      26791           1       1                0       1\n",
       "6180      26795           1       1                0       1\n",
       "6181      26796           6       4                2      12\n",
       "6182      26799           6       6                2       6\n",
       "6183      26800           1       0                1       1\n",
       "\n",
       "[6184 rows x 5 columns]"
      ]
     },
     "execution_count": 473,
     "metadata": {},
     "output_type": "execute_result"
    }
   ],
   "source": [
    "users_event_data = events_data_test.pivot_table(index='user_id', columns='action', values='step_id', aggfunc='count', fill_value=0).reset_index()\n",
    "users_event_data"
   ]
  },
  {
   "cell_type": "code",
   "execution_count": null,
   "metadata": {},
   "outputs": [
    {
     "data": {
      "text/html": [
       "<div>\n",
       "<style scoped>\n",
       "    .dataframe tbody tr th:only-of-type {\n",
       "        vertical-align: middle;\n",
       "    }\n",
       "\n",
       "    .dataframe tbody tr th {\n",
       "        vertical-align: top;\n",
       "    }\n",
       "\n",
       "    .dataframe thead th {\n",
       "        text-align: right;\n",
       "    }\n",
       "</style>\n",
       "<table border=\"1\" class=\"dataframe\">\n",
       "  <thead>\n",
       "    <tr style=\"text-align: right;\">\n",
       "      <th>submission_status</th>\n",
       "      <th>user_id</th>\n",
       "      <th>correct</th>\n",
       "      <th>wrong</th>\n",
       "    </tr>\n",
       "  </thead>\n",
       "  <tbody>\n",
       "    <tr>\n",
       "      <th>0</th>\n",
       "      <td>12</td>\n",
       "      <td>1</td>\n",
       "      <td>0</td>\n",
       "    </tr>\n",
       "    <tr>\n",
       "      <th>1</th>\n",
       "      <td>13</td>\n",
       "      <td>29</td>\n",
       "      <td>36</td>\n",
       "    </tr>\n",
       "    <tr>\n",
       "      <th>2</th>\n",
       "      <td>15</td>\n",
       "      <td>10</td>\n",
       "      <td>30</td>\n",
       "    </tr>\n",
       "    <tr>\n",
       "      <th>3</th>\n",
       "      <td>21</td>\n",
       "      <td>24</td>\n",
       "      <td>103</td>\n",
       "    </tr>\n",
       "    <tr>\n",
       "      <th>4</th>\n",
       "      <td>35</td>\n",
       "      <td>7</td>\n",
       "      <td>35</td>\n",
       "    </tr>\n",
       "    <tr>\n",
       "      <th>...</th>\n",
       "      <td>...</td>\n",
       "      <td>...</td>\n",
       "      <td>...</td>\n",
       "    </tr>\n",
       "    <tr>\n",
       "      <th>2798</th>\n",
       "      <td>26775</td>\n",
       "      <td>46</td>\n",
       "      <td>160</td>\n",
       "    </tr>\n",
       "    <tr>\n",
       "      <th>2799</th>\n",
       "      <td>26780</td>\n",
       "      <td>16</td>\n",
       "      <td>7</td>\n",
       "    </tr>\n",
       "    <tr>\n",
       "      <th>2800</th>\n",
       "      <td>26785</td>\n",
       "      <td>3</td>\n",
       "      <td>1</td>\n",
       "    </tr>\n",
       "    <tr>\n",
       "      <th>2801</th>\n",
       "      <td>26796</td>\n",
       "      <td>2</td>\n",
       "      <td>3</td>\n",
       "    </tr>\n",
       "    <tr>\n",
       "      <th>2802</th>\n",
       "      <td>26799</td>\n",
       "      <td>2</td>\n",
       "      <td>0</td>\n",
       "    </tr>\n",
       "  </tbody>\n",
       "</table>\n",
       "<p>2803 rows × 3 columns</p>\n",
       "</div>"
      ],
      "text/plain": [
       "submission_status  user_id  correct  wrong\n",
       "0                       12        1      0\n",
       "1                       13       29     36\n",
       "2                       15       10     30\n",
       "3                       21       24    103\n",
       "4                       35        7     35\n",
       "...                    ...      ...    ...\n",
       "2798                 26775       46    160\n",
       "2799                 26780       16      7\n",
       "2800                 26785        3      1\n",
       "2801                 26796        2      3\n",
       "2802                 26799        2      0\n",
       "\n",
       "[2803 rows x 3 columns]"
      ]
     },
     "execution_count": 474,
     "metadata": {},
     "output_type": "execute_result"
    }
   ],
   "source": [
    "user_submissions_data = submissions_data_test.pivot_table(index='user_id', columns='submission_status', values='step_id', aggfunc='count', fill_value=0).reset_index()\n",
    "user_submissions_data"
   ]
  },
  {
   "cell_type": "code",
   "execution_count": null,
   "metadata": {},
   "outputs": [],
   "source": [
    "final_table = events_data_test.merge(user_submissions_data, how='outer', on='user_id')"
   ]
  },
  {
   "cell_type": "code",
   "execution_count": null,
   "metadata": {},
   "outputs": [],
   "source": [
    "final_table = final_table.merge(users_event_data, how='outer', on='user_id')"
   ]
  },
  {
   "cell_type": "code",
   "execution_count": null,
   "metadata": {},
   "outputs": [],
   "source": [
    "final_table = final_table.groupby('user_id', as_index=False) \\\n",
    "    .agg({'passed' : 'max', 'discovered' : 'max', 'started_attempt': 'max', 'viewed': 'max',\n",
    "    'step_id': 'nunique', 'correct': 'max', 'wrong': 'max'}) \\\n",
    "    .rename(columns={'step_id': 'unique_steps_count'})"
   ]
  },
  {
   "cell_type": "code",
   "execution_count": null,
   "metadata": {},
   "outputs": [],
   "source": [
    "final_table = final_table.fillna(0).astype('int64')"
   ]
  },
  {
   "cell_type": "code",
   "execution_count": null,
   "metadata": {},
   "outputs": [],
   "source": [
    "# final_table['is_gone'] = final_table.passed >= 40"
   ]
  },
  {
   "cell_type": "code",
   "execution_count": null,
   "metadata": {},
   "outputs": [
    {
     "data": {
      "text/html": [
       "<div>\n",
       "<style scoped>\n",
       "    .dataframe tbody tr th:only-of-type {\n",
       "        vertical-align: middle;\n",
       "    }\n",
       "\n",
       "    .dataframe tbody tr th {\n",
       "        vertical-align: top;\n",
       "    }\n",
       "\n",
       "    .dataframe thead th {\n",
       "        text-align: right;\n",
       "    }\n",
       "</style>\n",
       "<table border=\"1\" class=\"dataframe\">\n",
       "  <thead>\n",
       "    <tr style=\"text-align: right;\">\n",
       "      <th></th>\n",
       "      <th>user_id</th>\n",
       "      <th>passed</th>\n",
       "      <th>discovered</th>\n",
       "      <th>started_attempt</th>\n",
       "      <th>viewed</th>\n",
       "      <th>unique_steps_count</th>\n",
       "      <th>correct</th>\n",
       "      <th>wrong</th>\n",
       "    </tr>\n",
       "  </thead>\n",
       "  <tbody>\n",
       "    <tr>\n",
       "      <th>0</th>\n",
       "      <td>4</td>\n",
       "      <td>1</td>\n",
       "      <td>1</td>\n",
       "      <td>0</td>\n",
       "      <td>1</td>\n",
       "      <td>1</td>\n",
       "      <td>0</td>\n",
       "      <td>0</td>\n",
       "    </tr>\n",
       "    <tr>\n",
       "      <th>1</th>\n",
       "      <td>6</td>\n",
       "      <td>1</td>\n",
       "      <td>1</td>\n",
       "      <td>0</td>\n",
       "      <td>1</td>\n",
       "      <td>1</td>\n",
       "      <td>0</td>\n",
       "      <td>0</td>\n",
       "    </tr>\n",
       "    <tr>\n",
       "      <th>2</th>\n",
       "      <td>10</td>\n",
       "      <td>2</td>\n",
       "      <td>2</td>\n",
       "      <td>0</td>\n",
       "      <td>6</td>\n",
       "      <td>2</td>\n",
       "      <td>0</td>\n",
       "      <td>0</td>\n",
       "    </tr>\n",
       "    <tr>\n",
       "      <th>3</th>\n",
       "      <td>12</td>\n",
       "      <td>9</td>\n",
       "      <td>11</td>\n",
       "      <td>4</td>\n",
       "      <td>14</td>\n",
       "      <td>12</td>\n",
       "      <td>1</td>\n",
       "      <td>0</td>\n",
       "    </tr>\n",
       "    <tr>\n",
       "      <th>4</th>\n",
       "      <td>13</td>\n",
       "      <td>70</td>\n",
       "      <td>70</td>\n",
       "      <td>35</td>\n",
       "      <td>105</td>\n",
       "      <td>70</td>\n",
       "      <td>29</td>\n",
       "      <td>36</td>\n",
       "    </tr>\n",
       "    <tr>\n",
       "      <th>...</th>\n",
       "      <td>...</td>\n",
       "      <td>...</td>\n",
       "      <td>...</td>\n",
       "      <td>...</td>\n",
       "      <td>...</td>\n",
       "      <td>...</td>\n",
       "      <td>...</td>\n",
       "      <td>...</td>\n",
       "    </tr>\n",
       "    <tr>\n",
       "      <th>6179</th>\n",
       "      <td>26791</td>\n",
       "      <td>1</td>\n",
       "      <td>1</td>\n",
       "      <td>0</td>\n",
       "      <td>1</td>\n",
       "      <td>1</td>\n",
       "      <td>0</td>\n",
       "      <td>0</td>\n",
       "    </tr>\n",
       "    <tr>\n",
       "      <th>6180</th>\n",
       "      <td>26795</td>\n",
       "      <td>1</td>\n",
       "      <td>1</td>\n",
       "      <td>0</td>\n",
       "      <td>1</td>\n",
       "      <td>1</td>\n",
       "      <td>0</td>\n",
       "      <td>0</td>\n",
       "    </tr>\n",
       "    <tr>\n",
       "      <th>6181</th>\n",
       "      <td>26796</td>\n",
       "      <td>4</td>\n",
       "      <td>6</td>\n",
       "      <td>2</td>\n",
       "      <td>12</td>\n",
       "      <td>6</td>\n",
       "      <td>2</td>\n",
       "      <td>3</td>\n",
       "    </tr>\n",
       "    <tr>\n",
       "      <th>6182</th>\n",
       "      <td>26799</td>\n",
       "      <td>6</td>\n",
       "      <td>6</td>\n",
       "      <td>2</td>\n",
       "      <td>6</td>\n",
       "      <td>6</td>\n",
       "      <td>2</td>\n",
       "      <td>0</td>\n",
       "    </tr>\n",
       "    <tr>\n",
       "      <th>6183</th>\n",
       "      <td>26800</td>\n",
       "      <td>0</td>\n",
       "      <td>1</td>\n",
       "      <td>1</td>\n",
       "      <td>1</td>\n",
       "      <td>1</td>\n",
       "      <td>0</td>\n",
       "      <td>0</td>\n",
       "    </tr>\n",
       "  </tbody>\n",
       "</table>\n",
       "<p>6184 rows × 8 columns</p>\n",
       "</div>"
      ],
      "text/plain": [
       "      user_id  passed  discovered  started_attempt  viewed  \\\n",
       "0           4       1           1                0       1   \n",
       "1           6       1           1                0       1   \n",
       "2          10       2           2                0       6   \n",
       "3          12       9          11                4      14   \n",
       "4          13      70          70               35     105   \n",
       "...       ...     ...         ...              ...     ...   \n",
       "6179    26791       1           1                0       1   \n",
       "6180    26795       1           1                0       1   \n",
       "6181    26796       4           6                2      12   \n",
       "6182    26799       6           6                2       6   \n",
       "6183    26800       0           1                1       1   \n",
       "\n",
       "      unique_steps_count  correct  wrong  \n",
       "0                      1        0      0  \n",
       "1                      1        0      0  \n",
       "2                      2        0      0  \n",
       "3                     12        1      0  \n",
       "4                     70       29     36  \n",
       "...                  ...      ...    ...  \n",
       "6179                   1        0      0  \n",
       "6180                   1        0      0  \n",
       "6181                   6        2      3  \n",
       "6182                   6        2      0  \n",
       "6183                   1        0      0  \n",
       "\n",
       "[6184 rows x 8 columns]"
      ]
     },
     "execution_count": 479,
     "metadata": {},
     "output_type": "execute_result"
    }
   ],
   "source": [
    "final_table"
   ]
  },
  {
   "cell_type": "code",
   "execution_count": null,
   "metadata": {},
   "outputs": [],
   "source": [
    "is_gone_predict = final_table.passed\n",
    "final_table_train = final_table.drop(columns=['passed'], axis=1)"
   ]
  },
  {
   "cell_type": "code",
   "execution_count": null,
   "metadata": {},
   "outputs": [],
   "source": [
    "rf_clf = RandomForestClassifier()"
   ]
  },
  {
   "cell_type": "code",
   "execution_count": null,
   "metadata": {},
   "outputs": [],
   "source": [
    "params = {\"n_estimators\": range(10, 50, 10), \"max_depth\": range(1, 12, 2), \"min_samples_leaf\": range(1, 7), \"min_samples_split\": range(2, 9, 2)}"
   ]
  },
  {
   "cell_type": "code",
   "execution_count": null,
   "metadata": {},
   "outputs": [],
   "source": [
    "grid_is_good = GridSearchCV(rf_clf, params, cv=5, n_jobs=-1)"
   ]
  },
  {
   "cell_type": "code",
   "execution_count": null,
   "metadata": {},
   "outputs": [],
   "source": [
    "X_train, X_test, y_train, y_test = train_test_split(final_table_train, is_gone_predict, train_size = 0.75)\n"
   ]
  },
  {
   "cell_type": "code",
   "execution_count": null,
   "metadata": {},
   "outputs": [
    {
     "name": "stderr",
     "output_type": "stream",
     "text": [
      "/Users/user/opt/anaconda3/envs/conda/lib/python3.9/site-packages/sklearn/model_selection/_split.py:676: UserWarning: The least populated class in y has only 1 members, which is less than n_splits=5.\n",
      "  warnings.warn(\n"
     ]
    },
    {
     "data": {
      "text/plain": [
       "GridSearchCV(cv=5, estimator=RandomForestClassifier(), n_jobs=-1,\n",
       "             param_grid={'max_depth': range(1, 12, 2),\n",
       "                         'min_samples_leaf': range(1, 7),\n",
       "                         'min_samples_split': range(2, 9, 2),\n",
       "                         'n_estimators': range(10, 50, 10)})"
      ]
     },
     "execution_count": 485,
     "metadata": {},
     "output_type": "execute_result"
    }
   ],
   "source": [
    "grid_is_good.fit(X_train, y_train)"
   ]
  },
  {
   "cell_type": "code",
   "execution_count": null,
   "metadata": {},
   "outputs": [],
   "source": [
    "grid_pred = grid_is_good.predict(X_test)"
   ]
  },
  {
   "cell_type": "code",
   "execution_count": null,
   "metadata": {},
   "outputs": [
    {
     "data": {
      "text/plain": [
       "0.9473911168607159"
      ]
     },
     "execution_count": 487,
     "metadata": {},
     "output_type": "execute_result"
    }
   ],
   "source": [
    "grid_is_good.score(X_train, y_train)"
   ]
  },
  {
   "cell_type": "code",
   "execution_count": null,
   "metadata": {},
   "outputs": [
    {
     "ename": "ValueError",
     "evalue": "Target is multiclass but average='binary'. Please choose another average setting, one of [None, 'micro', 'macro', 'weighted'].",
     "output_type": "error",
     "traceback": [
      "\u001b[0;31m---------------------------------------------------------------------------\u001b[0m",
      "\u001b[0;31mValueError\u001b[0m                                Traceback (most recent call last)",
      "\u001b[1;32m/Users/user/Documents/studyProjects/machineLearningStepik/real_data_train/real_data.ipynb Cell 114'\u001b[0m in \u001b[0;36m<cell line: 1>\u001b[0;34m()\u001b[0m\n\u001b[0;32m----> <a href='vscode-notebook-cell:/Users/user/Documents/studyProjects/machineLearningStepik/real_data_train/real_data.ipynb#ch0000131?line=0'>1</a>\u001b[0m precision_score(y_test, grid_pred)\n",
      "File \u001b[0;32m~/opt/anaconda3/envs/conda/lib/python3.9/site-packages/sklearn/metrics/_classification.py:1757\u001b[0m, in \u001b[0;36mprecision_score\u001b[0;34m(y_true, y_pred, labels, pos_label, average, sample_weight, zero_division)\u001b[0m\n\u001b[1;32m   <a href='file:///Users/user/opt/anaconda3/envs/conda/lib/python3.9/site-packages/sklearn/metrics/_classification.py?line=1627'>1628</a>\u001b[0m \u001b[39mdef\u001b[39;00m \u001b[39mprecision_score\u001b[39m(\n\u001b[1;32m   <a href='file:///Users/user/opt/anaconda3/envs/conda/lib/python3.9/site-packages/sklearn/metrics/_classification.py?line=1628'>1629</a>\u001b[0m     y_true,\n\u001b[1;32m   <a href='file:///Users/user/opt/anaconda3/envs/conda/lib/python3.9/site-packages/sklearn/metrics/_classification.py?line=1629'>1630</a>\u001b[0m     y_pred,\n\u001b[0;32m   (...)\u001b[0m\n\u001b[1;32m   <a href='file:///Users/user/opt/anaconda3/envs/conda/lib/python3.9/site-packages/sklearn/metrics/_classification.py?line=1635'>1636</a>\u001b[0m     zero_division\u001b[39m=\u001b[39m\u001b[39m\"\u001b[39m\u001b[39mwarn\u001b[39m\u001b[39m\"\u001b[39m,\n\u001b[1;32m   <a href='file:///Users/user/opt/anaconda3/envs/conda/lib/python3.9/site-packages/sklearn/metrics/_classification.py?line=1636'>1637</a>\u001b[0m ):\n\u001b[1;32m   <a href='file:///Users/user/opt/anaconda3/envs/conda/lib/python3.9/site-packages/sklearn/metrics/_classification.py?line=1637'>1638</a>\u001b[0m     \u001b[39m\"\"\"Compute the precision.\u001b[39;00m\n\u001b[1;32m   <a href='file:///Users/user/opt/anaconda3/envs/conda/lib/python3.9/site-packages/sklearn/metrics/_classification.py?line=1638'>1639</a>\u001b[0m \n\u001b[1;32m   <a href='file:///Users/user/opt/anaconda3/envs/conda/lib/python3.9/site-packages/sklearn/metrics/_classification.py?line=1639'>1640</a>\u001b[0m \u001b[39m    The precision is the ratio ``tp / (tp + fp)`` where ``tp`` is the number of\u001b[39;00m\n\u001b[0;32m   (...)\u001b[0m\n\u001b[1;32m   <a href='file:///Users/user/opt/anaconda3/envs/conda/lib/python3.9/site-packages/sklearn/metrics/_classification.py?line=1754'>1755</a>\u001b[0m \u001b[39m    array([0.5, 1. , 1. ])\u001b[39;00m\n\u001b[1;32m   <a href='file:///Users/user/opt/anaconda3/envs/conda/lib/python3.9/site-packages/sklearn/metrics/_classification.py?line=1755'>1756</a>\u001b[0m \u001b[39m    \"\"\"\u001b[39;00m\n\u001b[0;32m-> <a href='file:///Users/user/opt/anaconda3/envs/conda/lib/python3.9/site-packages/sklearn/metrics/_classification.py?line=1756'>1757</a>\u001b[0m     p, _, _, _ \u001b[39m=\u001b[39m precision_recall_fscore_support(\n\u001b[1;32m   <a href='file:///Users/user/opt/anaconda3/envs/conda/lib/python3.9/site-packages/sklearn/metrics/_classification.py?line=1757'>1758</a>\u001b[0m         y_true,\n\u001b[1;32m   <a href='file:///Users/user/opt/anaconda3/envs/conda/lib/python3.9/site-packages/sklearn/metrics/_classification.py?line=1758'>1759</a>\u001b[0m         y_pred,\n\u001b[1;32m   <a href='file:///Users/user/opt/anaconda3/envs/conda/lib/python3.9/site-packages/sklearn/metrics/_classification.py?line=1759'>1760</a>\u001b[0m         labels\u001b[39m=\u001b[39;49mlabels,\n\u001b[1;32m   <a href='file:///Users/user/opt/anaconda3/envs/conda/lib/python3.9/site-packages/sklearn/metrics/_classification.py?line=1760'>1761</a>\u001b[0m         pos_label\u001b[39m=\u001b[39;49mpos_label,\n\u001b[1;32m   <a href='file:///Users/user/opt/anaconda3/envs/conda/lib/python3.9/site-packages/sklearn/metrics/_classification.py?line=1761'>1762</a>\u001b[0m         average\u001b[39m=\u001b[39;49maverage,\n\u001b[1;32m   <a href='file:///Users/user/opt/anaconda3/envs/conda/lib/python3.9/site-packages/sklearn/metrics/_classification.py?line=1762'>1763</a>\u001b[0m         warn_for\u001b[39m=\u001b[39;49m(\u001b[39m\"\u001b[39;49m\u001b[39mprecision\u001b[39;49m\u001b[39m\"\u001b[39;49m,),\n\u001b[1;32m   <a href='file:///Users/user/opt/anaconda3/envs/conda/lib/python3.9/site-packages/sklearn/metrics/_classification.py?line=1763'>1764</a>\u001b[0m         sample_weight\u001b[39m=\u001b[39;49msample_weight,\n\u001b[1;32m   <a href='file:///Users/user/opt/anaconda3/envs/conda/lib/python3.9/site-packages/sklearn/metrics/_classification.py?line=1764'>1765</a>\u001b[0m         zero_division\u001b[39m=\u001b[39;49mzero_division,\n\u001b[1;32m   <a href='file:///Users/user/opt/anaconda3/envs/conda/lib/python3.9/site-packages/sklearn/metrics/_classification.py?line=1765'>1766</a>\u001b[0m     )\n\u001b[1;32m   <a href='file:///Users/user/opt/anaconda3/envs/conda/lib/python3.9/site-packages/sklearn/metrics/_classification.py?line=1766'>1767</a>\u001b[0m     \u001b[39mreturn\u001b[39;00m p\n",
      "File \u001b[0;32m~/opt/anaconda3/envs/conda/lib/python3.9/site-packages/sklearn/metrics/_classification.py:1544\u001b[0m, in \u001b[0;36mprecision_recall_fscore_support\u001b[0;34m(y_true, y_pred, beta, labels, pos_label, average, warn_for, sample_weight, zero_division)\u001b[0m\n\u001b[1;32m   <a href='file:///Users/user/opt/anaconda3/envs/conda/lib/python3.9/site-packages/sklearn/metrics/_classification.py?line=1541'>1542</a>\u001b[0m \u001b[39mif\u001b[39;00m beta \u001b[39m<\u001b[39m \u001b[39m0\u001b[39m:\n\u001b[1;32m   <a href='file:///Users/user/opt/anaconda3/envs/conda/lib/python3.9/site-packages/sklearn/metrics/_classification.py?line=1542'>1543</a>\u001b[0m     \u001b[39mraise\u001b[39;00m \u001b[39mValueError\u001b[39;00m(\u001b[39m\"\u001b[39m\u001b[39mbeta should be >=0 in the F-beta score\u001b[39m\u001b[39m\"\u001b[39m)\n\u001b[0;32m-> <a href='file:///Users/user/opt/anaconda3/envs/conda/lib/python3.9/site-packages/sklearn/metrics/_classification.py?line=1543'>1544</a>\u001b[0m labels \u001b[39m=\u001b[39m _check_set_wise_labels(y_true, y_pred, average, labels, pos_label)\n\u001b[1;32m   <a href='file:///Users/user/opt/anaconda3/envs/conda/lib/python3.9/site-packages/sklearn/metrics/_classification.py?line=1545'>1546</a>\u001b[0m \u001b[39m# Calculate tp_sum, pred_sum, true_sum ###\u001b[39;00m\n\u001b[1;32m   <a href='file:///Users/user/opt/anaconda3/envs/conda/lib/python3.9/site-packages/sklearn/metrics/_classification.py?line=1546'>1547</a>\u001b[0m samplewise \u001b[39m=\u001b[39m average \u001b[39m==\u001b[39m \u001b[39m\"\u001b[39m\u001b[39msamples\u001b[39m\u001b[39m\"\u001b[39m\n",
      "File \u001b[0;32m~/opt/anaconda3/envs/conda/lib/python3.9/site-packages/sklearn/metrics/_classification.py:1365\u001b[0m, in \u001b[0;36m_check_set_wise_labels\u001b[0;34m(y_true, y_pred, average, labels, pos_label)\u001b[0m\n\u001b[1;32m   <a href='file:///Users/user/opt/anaconda3/envs/conda/lib/python3.9/site-packages/sklearn/metrics/_classification.py?line=1362'>1363</a>\u001b[0m         \u001b[39mif\u001b[39;00m y_type \u001b[39m==\u001b[39m \u001b[39m\"\u001b[39m\u001b[39mmulticlass\u001b[39m\u001b[39m\"\u001b[39m:\n\u001b[1;32m   <a href='file:///Users/user/opt/anaconda3/envs/conda/lib/python3.9/site-packages/sklearn/metrics/_classification.py?line=1363'>1364</a>\u001b[0m             average_options\u001b[39m.\u001b[39mremove(\u001b[39m\"\u001b[39m\u001b[39msamples\u001b[39m\u001b[39m\"\u001b[39m)\n\u001b[0;32m-> <a href='file:///Users/user/opt/anaconda3/envs/conda/lib/python3.9/site-packages/sklearn/metrics/_classification.py?line=1364'>1365</a>\u001b[0m         \u001b[39mraise\u001b[39;00m \u001b[39mValueError\u001b[39;00m(\n\u001b[1;32m   <a href='file:///Users/user/opt/anaconda3/envs/conda/lib/python3.9/site-packages/sklearn/metrics/_classification.py?line=1365'>1366</a>\u001b[0m             \u001b[39m\"\u001b[39m\u001b[39mTarget is \u001b[39m\u001b[39m%s\u001b[39;00m\u001b[39m but average=\u001b[39m\u001b[39m'\u001b[39m\u001b[39mbinary\u001b[39m\u001b[39m'\u001b[39m\u001b[39m. Please \u001b[39m\u001b[39m\"\u001b[39m\n\u001b[1;32m   <a href='file:///Users/user/opt/anaconda3/envs/conda/lib/python3.9/site-packages/sklearn/metrics/_classification.py?line=1366'>1367</a>\u001b[0m             \u001b[39m\"\u001b[39m\u001b[39mchoose another average setting, one of \u001b[39m\u001b[39m%r\u001b[39;00m\u001b[39m.\u001b[39m\u001b[39m\"\u001b[39m \u001b[39m%\u001b[39m (y_type, average_options)\n\u001b[1;32m   <a href='file:///Users/user/opt/anaconda3/envs/conda/lib/python3.9/site-packages/sklearn/metrics/_classification.py?line=1367'>1368</a>\u001b[0m         )\n\u001b[1;32m   <a href='file:///Users/user/opt/anaconda3/envs/conda/lib/python3.9/site-packages/sklearn/metrics/_classification.py?line=1368'>1369</a>\u001b[0m \u001b[39melif\u001b[39;00m pos_label \u001b[39mnot\u001b[39;00m \u001b[39min\u001b[39;00m (\u001b[39mNone\u001b[39;00m, \u001b[39m1\u001b[39m):\n\u001b[1;32m   <a href='file:///Users/user/opt/anaconda3/envs/conda/lib/python3.9/site-packages/sklearn/metrics/_classification.py?line=1369'>1370</a>\u001b[0m     warnings\u001b[39m.\u001b[39mwarn(\n\u001b[1;32m   <a href='file:///Users/user/opt/anaconda3/envs/conda/lib/python3.9/site-packages/sklearn/metrics/_classification.py?line=1370'>1371</a>\u001b[0m         \u001b[39m\"\u001b[39m\u001b[39mNote that pos_label (set to \u001b[39m\u001b[39m%r\u001b[39;00m\u001b[39m) is ignored when \u001b[39m\u001b[39m\"\u001b[39m\n\u001b[1;32m   <a href='file:///Users/user/opt/anaconda3/envs/conda/lib/python3.9/site-packages/sklearn/metrics/_classification.py?line=1371'>1372</a>\u001b[0m         \u001b[39m\"\u001b[39m\u001b[39maverage != \u001b[39m\u001b[39m'\u001b[39m\u001b[39mbinary\u001b[39m\u001b[39m'\u001b[39m\u001b[39m (got \u001b[39m\u001b[39m%r\u001b[39;00m\u001b[39m). You may use \u001b[39m\u001b[39m\"\u001b[39m\n\u001b[0;32m   (...)\u001b[0m\n\u001b[1;32m   <a href='file:///Users/user/opt/anaconda3/envs/conda/lib/python3.9/site-packages/sklearn/metrics/_classification.py?line=1374'>1375</a>\u001b[0m         \u001b[39mUserWarning\u001b[39;00m,\n\u001b[1;32m   <a href='file:///Users/user/opt/anaconda3/envs/conda/lib/python3.9/site-packages/sklearn/metrics/_classification.py?line=1375'>1376</a>\u001b[0m     )\n",
      "\u001b[0;31mValueError\u001b[0m: Target is multiclass but average='binary'. Please choose another average setting, one of [None, 'micro', 'macro', 'weighted']."
     ]
    }
   ],
   "source": [
    "precision_score(y_test, grid_pred)"
   ]
  },
  {
   "cell_type": "code",
   "execution_count": null,
   "metadata": {},
   "outputs": [
    {
     "ename": "ValueError",
     "evalue": "Target is multiclass but average='binary'. Please choose another average setting, one of [None, 'micro', 'macro', 'weighted'].",
     "output_type": "error",
     "traceback": [
      "\u001b[0;31m---------------------------------------------------------------------------\u001b[0m",
      "\u001b[0;31mValueError\u001b[0m                                Traceback (most recent call last)",
      "\u001b[1;32m/Users/user/Documents/studyProjects/machineLearningStepik/real_data_train/real_data.ipynb Cell 115'\u001b[0m in \u001b[0;36m<cell line: 1>\u001b[0;34m()\u001b[0m\n\u001b[0;32m----> <a href='vscode-notebook-cell:/Users/user/Documents/studyProjects/machineLearningStepik/real_data_train/real_data.ipynb#ch0000132?line=0'>1</a>\u001b[0m recall_score(y_test, grid_pred)\n",
      "File \u001b[0;32m~/opt/anaconda3/envs/conda/lib/python3.9/site-packages/sklearn/metrics/_classification.py:1901\u001b[0m, in \u001b[0;36mrecall_score\u001b[0;34m(y_true, y_pred, labels, pos_label, average, sample_weight, zero_division)\u001b[0m\n\u001b[1;32m   <a href='file:///Users/user/opt/anaconda3/envs/conda/lib/python3.9/site-packages/sklearn/metrics/_classification.py?line=1769'>1770</a>\u001b[0m \u001b[39mdef\u001b[39;00m \u001b[39mrecall_score\u001b[39m(\n\u001b[1;32m   <a href='file:///Users/user/opt/anaconda3/envs/conda/lib/python3.9/site-packages/sklearn/metrics/_classification.py?line=1770'>1771</a>\u001b[0m     y_true,\n\u001b[1;32m   <a href='file:///Users/user/opt/anaconda3/envs/conda/lib/python3.9/site-packages/sklearn/metrics/_classification.py?line=1771'>1772</a>\u001b[0m     y_pred,\n\u001b[0;32m   (...)\u001b[0m\n\u001b[1;32m   <a href='file:///Users/user/opt/anaconda3/envs/conda/lib/python3.9/site-packages/sklearn/metrics/_classification.py?line=1777'>1778</a>\u001b[0m     zero_division\u001b[39m=\u001b[39m\u001b[39m\"\u001b[39m\u001b[39mwarn\u001b[39m\u001b[39m\"\u001b[39m,\n\u001b[1;32m   <a href='file:///Users/user/opt/anaconda3/envs/conda/lib/python3.9/site-packages/sklearn/metrics/_classification.py?line=1778'>1779</a>\u001b[0m ):\n\u001b[1;32m   <a href='file:///Users/user/opt/anaconda3/envs/conda/lib/python3.9/site-packages/sklearn/metrics/_classification.py?line=1779'>1780</a>\u001b[0m     \u001b[39m\"\"\"Compute the recall.\u001b[39;00m\n\u001b[1;32m   <a href='file:///Users/user/opt/anaconda3/envs/conda/lib/python3.9/site-packages/sklearn/metrics/_classification.py?line=1780'>1781</a>\u001b[0m \n\u001b[1;32m   <a href='file:///Users/user/opt/anaconda3/envs/conda/lib/python3.9/site-packages/sklearn/metrics/_classification.py?line=1781'>1782</a>\u001b[0m \u001b[39m    The recall is the ratio ``tp / (tp + fn)`` where ``tp`` is the number of\u001b[39;00m\n\u001b[0;32m   (...)\u001b[0m\n\u001b[1;32m   <a href='file:///Users/user/opt/anaconda3/envs/conda/lib/python3.9/site-packages/sklearn/metrics/_classification.py?line=1898'>1899</a>\u001b[0m \u001b[39m    array([1. , 1. , 0.5])\u001b[39;00m\n\u001b[1;32m   <a href='file:///Users/user/opt/anaconda3/envs/conda/lib/python3.9/site-packages/sklearn/metrics/_classification.py?line=1899'>1900</a>\u001b[0m \u001b[39m    \"\"\"\u001b[39;00m\n\u001b[0;32m-> <a href='file:///Users/user/opt/anaconda3/envs/conda/lib/python3.9/site-packages/sklearn/metrics/_classification.py?line=1900'>1901</a>\u001b[0m     _, r, _, _ \u001b[39m=\u001b[39m precision_recall_fscore_support(\n\u001b[1;32m   <a href='file:///Users/user/opt/anaconda3/envs/conda/lib/python3.9/site-packages/sklearn/metrics/_classification.py?line=1901'>1902</a>\u001b[0m         y_true,\n\u001b[1;32m   <a href='file:///Users/user/opt/anaconda3/envs/conda/lib/python3.9/site-packages/sklearn/metrics/_classification.py?line=1902'>1903</a>\u001b[0m         y_pred,\n\u001b[1;32m   <a href='file:///Users/user/opt/anaconda3/envs/conda/lib/python3.9/site-packages/sklearn/metrics/_classification.py?line=1903'>1904</a>\u001b[0m         labels\u001b[39m=\u001b[39;49mlabels,\n\u001b[1;32m   <a href='file:///Users/user/opt/anaconda3/envs/conda/lib/python3.9/site-packages/sklearn/metrics/_classification.py?line=1904'>1905</a>\u001b[0m         pos_label\u001b[39m=\u001b[39;49mpos_label,\n\u001b[1;32m   <a href='file:///Users/user/opt/anaconda3/envs/conda/lib/python3.9/site-packages/sklearn/metrics/_classification.py?line=1905'>1906</a>\u001b[0m         average\u001b[39m=\u001b[39;49maverage,\n\u001b[1;32m   <a href='file:///Users/user/opt/anaconda3/envs/conda/lib/python3.9/site-packages/sklearn/metrics/_classification.py?line=1906'>1907</a>\u001b[0m         warn_for\u001b[39m=\u001b[39;49m(\u001b[39m\"\u001b[39;49m\u001b[39mrecall\u001b[39;49m\u001b[39m\"\u001b[39;49m,),\n\u001b[1;32m   <a href='file:///Users/user/opt/anaconda3/envs/conda/lib/python3.9/site-packages/sklearn/metrics/_classification.py?line=1907'>1908</a>\u001b[0m         sample_weight\u001b[39m=\u001b[39;49msample_weight,\n\u001b[1;32m   <a href='file:///Users/user/opt/anaconda3/envs/conda/lib/python3.9/site-packages/sklearn/metrics/_classification.py?line=1908'>1909</a>\u001b[0m         zero_division\u001b[39m=\u001b[39;49mzero_division,\n\u001b[1;32m   <a href='file:///Users/user/opt/anaconda3/envs/conda/lib/python3.9/site-packages/sklearn/metrics/_classification.py?line=1909'>1910</a>\u001b[0m     )\n\u001b[1;32m   <a href='file:///Users/user/opt/anaconda3/envs/conda/lib/python3.9/site-packages/sklearn/metrics/_classification.py?line=1910'>1911</a>\u001b[0m     \u001b[39mreturn\u001b[39;00m r\n",
      "File \u001b[0;32m~/opt/anaconda3/envs/conda/lib/python3.9/site-packages/sklearn/metrics/_classification.py:1544\u001b[0m, in \u001b[0;36mprecision_recall_fscore_support\u001b[0;34m(y_true, y_pred, beta, labels, pos_label, average, warn_for, sample_weight, zero_division)\u001b[0m\n\u001b[1;32m   <a href='file:///Users/user/opt/anaconda3/envs/conda/lib/python3.9/site-packages/sklearn/metrics/_classification.py?line=1541'>1542</a>\u001b[0m \u001b[39mif\u001b[39;00m beta \u001b[39m<\u001b[39m \u001b[39m0\u001b[39m:\n\u001b[1;32m   <a href='file:///Users/user/opt/anaconda3/envs/conda/lib/python3.9/site-packages/sklearn/metrics/_classification.py?line=1542'>1543</a>\u001b[0m     \u001b[39mraise\u001b[39;00m \u001b[39mValueError\u001b[39;00m(\u001b[39m\"\u001b[39m\u001b[39mbeta should be >=0 in the F-beta score\u001b[39m\u001b[39m\"\u001b[39m)\n\u001b[0;32m-> <a href='file:///Users/user/opt/anaconda3/envs/conda/lib/python3.9/site-packages/sklearn/metrics/_classification.py?line=1543'>1544</a>\u001b[0m labels \u001b[39m=\u001b[39m _check_set_wise_labels(y_true, y_pred, average, labels, pos_label)\n\u001b[1;32m   <a href='file:///Users/user/opt/anaconda3/envs/conda/lib/python3.9/site-packages/sklearn/metrics/_classification.py?line=1545'>1546</a>\u001b[0m \u001b[39m# Calculate tp_sum, pred_sum, true_sum ###\u001b[39;00m\n\u001b[1;32m   <a href='file:///Users/user/opt/anaconda3/envs/conda/lib/python3.9/site-packages/sklearn/metrics/_classification.py?line=1546'>1547</a>\u001b[0m samplewise \u001b[39m=\u001b[39m average \u001b[39m==\u001b[39m \u001b[39m\"\u001b[39m\u001b[39msamples\u001b[39m\u001b[39m\"\u001b[39m\n",
      "File \u001b[0;32m~/opt/anaconda3/envs/conda/lib/python3.9/site-packages/sklearn/metrics/_classification.py:1365\u001b[0m, in \u001b[0;36m_check_set_wise_labels\u001b[0;34m(y_true, y_pred, average, labels, pos_label)\u001b[0m\n\u001b[1;32m   <a href='file:///Users/user/opt/anaconda3/envs/conda/lib/python3.9/site-packages/sklearn/metrics/_classification.py?line=1362'>1363</a>\u001b[0m         \u001b[39mif\u001b[39;00m y_type \u001b[39m==\u001b[39m \u001b[39m\"\u001b[39m\u001b[39mmulticlass\u001b[39m\u001b[39m\"\u001b[39m:\n\u001b[1;32m   <a href='file:///Users/user/opt/anaconda3/envs/conda/lib/python3.9/site-packages/sklearn/metrics/_classification.py?line=1363'>1364</a>\u001b[0m             average_options\u001b[39m.\u001b[39mremove(\u001b[39m\"\u001b[39m\u001b[39msamples\u001b[39m\u001b[39m\"\u001b[39m)\n\u001b[0;32m-> <a href='file:///Users/user/opt/anaconda3/envs/conda/lib/python3.9/site-packages/sklearn/metrics/_classification.py?line=1364'>1365</a>\u001b[0m         \u001b[39mraise\u001b[39;00m \u001b[39mValueError\u001b[39;00m(\n\u001b[1;32m   <a href='file:///Users/user/opt/anaconda3/envs/conda/lib/python3.9/site-packages/sklearn/metrics/_classification.py?line=1365'>1366</a>\u001b[0m             \u001b[39m\"\u001b[39m\u001b[39mTarget is \u001b[39m\u001b[39m%s\u001b[39;00m\u001b[39m but average=\u001b[39m\u001b[39m'\u001b[39m\u001b[39mbinary\u001b[39m\u001b[39m'\u001b[39m\u001b[39m. Please \u001b[39m\u001b[39m\"\u001b[39m\n\u001b[1;32m   <a href='file:///Users/user/opt/anaconda3/envs/conda/lib/python3.9/site-packages/sklearn/metrics/_classification.py?line=1366'>1367</a>\u001b[0m             \u001b[39m\"\u001b[39m\u001b[39mchoose another average setting, one of \u001b[39m\u001b[39m%r\u001b[39;00m\u001b[39m.\u001b[39m\u001b[39m\"\u001b[39m \u001b[39m%\u001b[39m (y_type, average_options)\n\u001b[1;32m   <a href='file:///Users/user/opt/anaconda3/envs/conda/lib/python3.9/site-packages/sklearn/metrics/_classification.py?line=1367'>1368</a>\u001b[0m         )\n\u001b[1;32m   <a href='file:///Users/user/opt/anaconda3/envs/conda/lib/python3.9/site-packages/sklearn/metrics/_classification.py?line=1368'>1369</a>\u001b[0m \u001b[39melif\u001b[39;00m pos_label \u001b[39mnot\u001b[39;00m \u001b[39min\u001b[39;00m (\u001b[39mNone\u001b[39;00m, \u001b[39m1\u001b[39m):\n\u001b[1;32m   <a href='file:///Users/user/opt/anaconda3/envs/conda/lib/python3.9/site-packages/sklearn/metrics/_classification.py?line=1369'>1370</a>\u001b[0m     warnings\u001b[39m.\u001b[39mwarn(\n\u001b[1;32m   <a href='file:///Users/user/opt/anaconda3/envs/conda/lib/python3.9/site-packages/sklearn/metrics/_classification.py?line=1370'>1371</a>\u001b[0m         \u001b[39m\"\u001b[39m\u001b[39mNote that pos_label (set to \u001b[39m\u001b[39m%r\u001b[39;00m\u001b[39m) is ignored when \u001b[39m\u001b[39m\"\u001b[39m\n\u001b[1;32m   <a href='file:///Users/user/opt/anaconda3/envs/conda/lib/python3.9/site-packages/sklearn/metrics/_classification.py?line=1371'>1372</a>\u001b[0m         \u001b[39m\"\u001b[39m\u001b[39maverage != \u001b[39m\u001b[39m'\u001b[39m\u001b[39mbinary\u001b[39m\u001b[39m'\u001b[39m\u001b[39m (got \u001b[39m\u001b[39m%r\u001b[39;00m\u001b[39m). You may use \u001b[39m\u001b[39m\"\u001b[39m\n\u001b[0;32m   (...)\u001b[0m\n\u001b[1;32m   <a href='file:///Users/user/opt/anaconda3/envs/conda/lib/python3.9/site-packages/sklearn/metrics/_classification.py?line=1374'>1375</a>\u001b[0m         \u001b[39mUserWarning\u001b[39;00m,\n\u001b[1;32m   <a href='file:///Users/user/opt/anaconda3/envs/conda/lib/python3.9/site-packages/sklearn/metrics/_classification.py?line=1375'>1376</a>\u001b[0m     )\n",
      "\u001b[0;31mValueError\u001b[0m: Target is multiclass but average='binary'. Please choose another average setting, one of [None, 'micro', 'macro', 'weighted']."
     ]
    }
   ],
   "source": [
    "recall_score(y_test, grid_pred)"
   ]
  },
  {
   "cell_type": "code",
   "execution_count": null,
   "metadata": {},
   "outputs": [],
   "source": [
    "proba = grid_is_good.predict_proba(final_table_train)"
   ]
  },
  {
   "cell_type": "code",
   "execution_count": null,
   "metadata": {},
   "outputs": [
    {
     "data": {
      "text/plain": [
       "array([10, 12, 12, ..., 41,  0,  1])"
      ]
     },
     "execution_count": 494,
     "metadata": {},
     "output_type": "execute_result"
    }
   ],
   "source": []
  },
  {
   "cell_type": "code",
   "execution_count": null,
   "metadata": {},
   "outputs": [
    {
     "data": {
      "text/plain": [
       "array([[0.02703504, 0.97296496, 0.        , ..., 0.        , 0.        ,\n",
       "        0.        ],\n",
       "       [0.02703504, 0.97296496, 0.        , ..., 0.        , 0.        ,\n",
       "        0.        ],\n",
       "       [0.        , 0.025     , 0.85416667, ..., 0.        , 0.        ,\n",
       "        0.        ],\n",
       "       ...,\n",
       "       [0.        , 0.        , 0.00833333, ..., 0.        , 0.        ,\n",
       "        0.        ],\n",
       "       [0.        , 0.        , 0.00119048, ..., 0.        , 0.        ,\n",
       "        0.        ],\n",
       "       [1.        , 0.        , 0.        , ..., 0.        , 0.        ,\n",
       "        0.        ]])"
      ]
     },
     "execution_count": 491,
     "metadata": {},
     "output_type": "execute_result"
    }
   ],
   "source": [
    "proba"
   ]
  },
  {
   "cell_type": "code",
   "execution_count": null,
   "metadata": {},
   "outputs": [],
   "source": [
    "df = pd.DataFrame({'user_id': final_table_train.user_id, 'is_gone': proba[:, 1]})"
   ]
  },
  {
   "cell_type": "code",
   "execution_count": null,
   "metadata": {},
   "outputs": [
    {
     "data": {
      "text/html": [
       "<div>\n",
       "<style scoped>\n",
       "    .dataframe tbody tr th:only-of-type {\n",
       "        vertical-align: middle;\n",
       "    }\n",
       "\n",
       "    .dataframe tbody tr th {\n",
       "        vertical-align: top;\n",
       "    }\n",
       "\n",
       "    .dataframe thead th {\n",
       "        text-align: right;\n",
       "    }\n",
       "</style>\n",
       "<table border=\"1\" class=\"dataframe\">\n",
       "  <thead>\n",
       "    <tr style=\"text-align: right;\">\n",
       "      <th></th>\n",
       "      <th>user_id</th>\n",
       "      <th>is_gone</th>\n",
       "    </tr>\n",
       "  </thead>\n",
       "  <tbody>\n",
       "    <tr>\n",
       "      <th>0</th>\n",
       "      <td>4</td>\n",
       "      <td>0.972965</td>\n",
       "    </tr>\n",
       "    <tr>\n",
       "      <th>1</th>\n",
       "      <td>6</td>\n",
       "      <td>0.972965</td>\n",
       "    </tr>\n",
       "    <tr>\n",
       "      <th>2</th>\n",
       "      <td>10</td>\n",
       "      <td>0.025000</td>\n",
       "    </tr>\n",
       "    <tr>\n",
       "      <th>3</th>\n",
       "      <td>12</td>\n",
       "      <td>0.000000</td>\n",
       "    </tr>\n",
       "    <tr>\n",
       "      <th>4</th>\n",
       "      <td>13</td>\n",
       "      <td>0.000000</td>\n",
       "    </tr>\n",
       "    <tr>\n",
       "      <th>5</th>\n",
       "      <td>15</td>\n",
       "      <td>1.000000</td>\n",
       "    </tr>\n",
       "    <tr>\n",
       "      <th>6</th>\n",
       "      <td>19</td>\n",
       "      <td>0.972965</td>\n",
       "    </tr>\n",
       "    <tr>\n",
       "      <th>7</th>\n",
       "      <td>21</td>\n",
       "      <td>0.000000</td>\n",
       "    </tr>\n",
       "    <tr>\n",
       "      <th>8</th>\n",
       "      <td>23</td>\n",
       "      <td>0.972965</td>\n",
       "    </tr>\n",
       "    <tr>\n",
       "      <th>9</th>\n",
       "      <td>35</td>\n",
       "      <td>0.000000</td>\n",
       "    </tr>\n",
       "    <tr>\n",
       "      <th>10</th>\n",
       "      <td>40</td>\n",
       "      <td>0.972965</td>\n",
       "    </tr>\n",
       "    <tr>\n",
       "      <th>11</th>\n",
       "      <td>45</td>\n",
       "      <td>0.000000</td>\n",
       "    </tr>\n",
       "    <tr>\n",
       "      <th>12</th>\n",
       "      <td>55</td>\n",
       "      <td>0.000000</td>\n",
       "    </tr>\n",
       "    <tr>\n",
       "      <th>13</th>\n",
       "      <td>58</td>\n",
       "      <td>0.000000</td>\n",
       "    </tr>\n",
       "    <tr>\n",
       "      <th>14</th>\n",
       "      <td>62</td>\n",
       "      <td>0.000000</td>\n",
       "    </tr>\n",
       "    <tr>\n",
       "      <th>15</th>\n",
       "      <td>72</td>\n",
       "      <td>0.972965</td>\n",
       "    </tr>\n",
       "    <tr>\n",
       "      <th>16</th>\n",
       "      <td>74</td>\n",
       "      <td>0.000000</td>\n",
       "    </tr>\n",
       "    <tr>\n",
       "      <th>17</th>\n",
       "      <td>81</td>\n",
       "      <td>0.000000</td>\n",
       "    </tr>\n",
       "    <tr>\n",
       "      <th>18</th>\n",
       "      <td>84</td>\n",
       "      <td>0.010913</td>\n",
       "    </tr>\n",
       "    <tr>\n",
       "      <th>19</th>\n",
       "      <td>92</td>\n",
       "      <td>0.972965</td>\n",
       "    </tr>\n",
       "    <tr>\n",
       "      <th>20</th>\n",
       "      <td>93</td>\n",
       "      <td>0.972965</td>\n",
       "    </tr>\n",
       "    <tr>\n",
       "      <th>21</th>\n",
       "      <td>98</td>\n",
       "      <td>0.000000</td>\n",
       "    </tr>\n",
       "    <tr>\n",
       "      <th>22</th>\n",
       "      <td>102</td>\n",
       "      <td>0.000000</td>\n",
       "    </tr>\n",
       "    <tr>\n",
       "      <th>23</th>\n",
       "      <td>105</td>\n",
       "      <td>0.000000</td>\n",
       "    </tr>\n",
       "    <tr>\n",
       "      <th>24</th>\n",
       "      <td>107</td>\n",
       "      <td>0.997965</td>\n",
       "    </tr>\n",
       "    <tr>\n",
       "      <th>25</th>\n",
       "      <td>112</td>\n",
       "      <td>0.000000</td>\n",
       "    </tr>\n",
       "    <tr>\n",
       "      <th>26</th>\n",
       "      <td>113</td>\n",
       "      <td>0.000000</td>\n",
       "    </tr>\n",
       "    <tr>\n",
       "      <th>27</th>\n",
       "      <td>119</td>\n",
       "      <td>0.000000</td>\n",
       "    </tr>\n",
       "    <tr>\n",
       "      <th>28</th>\n",
       "      <td>124</td>\n",
       "      <td>0.000000</td>\n",
       "    </tr>\n",
       "    <tr>\n",
       "      <th>29</th>\n",
       "      <td>140</td>\n",
       "      <td>0.000000</td>\n",
       "    </tr>\n",
       "    <tr>\n",
       "      <th>30</th>\n",
       "      <td>141</td>\n",
       "      <td>0.000974</td>\n",
       "    </tr>\n",
       "    <tr>\n",
       "      <th>31</th>\n",
       "      <td>143</td>\n",
       "      <td>0.997965</td>\n",
       "    </tr>\n",
       "    <tr>\n",
       "      <th>32</th>\n",
       "      <td>150</td>\n",
       "      <td>0.000000</td>\n",
       "    </tr>\n",
       "    <tr>\n",
       "      <th>33</th>\n",
       "      <td>159</td>\n",
       "      <td>0.997965</td>\n",
       "    </tr>\n",
       "    <tr>\n",
       "      <th>34</th>\n",
       "      <td>162</td>\n",
       "      <td>0.000000</td>\n",
       "    </tr>\n",
       "    <tr>\n",
       "      <th>35</th>\n",
       "      <td>164</td>\n",
       "      <td>0.000000</td>\n",
       "    </tr>\n",
       "    <tr>\n",
       "      <th>36</th>\n",
       "      <td>165</td>\n",
       "      <td>0.997965</td>\n",
       "    </tr>\n",
       "    <tr>\n",
       "      <th>37</th>\n",
       "      <td>167</td>\n",
       "      <td>0.100000</td>\n",
       "    </tr>\n",
       "    <tr>\n",
       "      <th>38</th>\n",
       "      <td>174</td>\n",
       "      <td>0.997965</td>\n",
       "    </tr>\n",
       "    <tr>\n",
       "      <th>39</th>\n",
       "      <td>177</td>\n",
       "      <td>0.000000</td>\n",
       "    </tr>\n",
       "  </tbody>\n",
       "</table>\n",
       "</div>"
      ],
      "text/plain": [
       "    user_id   is_gone\n",
       "0         4  0.972965\n",
       "1         6  0.972965\n",
       "2        10  0.025000\n",
       "3        12  0.000000\n",
       "4        13  0.000000\n",
       "5        15  1.000000\n",
       "6        19  0.972965\n",
       "7        21  0.000000\n",
       "8        23  0.972965\n",
       "9        35  0.000000\n",
       "10       40  0.972965\n",
       "11       45  0.000000\n",
       "12       55  0.000000\n",
       "13       58  0.000000\n",
       "14       62  0.000000\n",
       "15       72  0.972965\n",
       "16       74  0.000000\n",
       "17       81  0.000000\n",
       "18       84  0.010913\n",
       "19       92  0.972965\n",
       "20       93  0.972965\n",
       "21       98  0.000000\n",
       "22      102  0.000000\n",
       "23      105  0.000000\n",
       "24      107  0.997965\n",
       "25      112  0.000000\n",
       "26      113  0.000000\n",
       "27      119  0.000000\n",
       "28      124  0.000000\n",
       "29      140  0.000000\n",
       "30      141  0.000974\n",
       "31      143  0.997965\n",
       "32      150  0.000000\n",
       "33      159  0.997965\n",
       "34      162  0.000000\n",
       "35      164  0.000000\n",
       "36      165  0.997965\n",
       "37      167  0.100000\n",
       "38      174  0.997965\n",
       "39      177  0.000000"
      ]
     },
     "execution_count": 493,
     "metadata": {},
     "output_type": "execute_result"
    }
   ],
   "source": [
    "df.head(40)"
   ]
  }
 ],
 "metadata": {
  "interpreter": {
   "hash": "eb26454bb78aacd39266ef03a91eb39660aa91881fbd9a3bc49da798fb6a5bac"
  },
  "kernelspec": {
   "display_name": "Python 3.9.12 ('conda')",
   "language": "python",
   "name": "python3"
  },
  "language_info": {
   "codemirror_mode": {
    "name": "ipython",
    "version": 3
   },
   "file_extension": ".py",
   "mimetype": "text/x-python",
   "name": "python",
   "nbconvert_exporter": "python",
   "pygments_lexer": "ipython3",
   "version": "3.9.12"
  },
  "orig_nbformat": 4
 },
 "nbformat": 4,
 "nbformat_minor": 2
}
